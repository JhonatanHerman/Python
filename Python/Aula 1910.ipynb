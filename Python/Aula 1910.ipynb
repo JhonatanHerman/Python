{
 "cells": [
  {
   "cell_type": "code",
   "execution_count": 10,
   "id": "0fd3d4ed",
   "metadata": {},
   "outputs": [
    {
     "name": "stdout",
     "output_type": "stream",
     "text": [
      "1\n",
      "2\n",
      "3\n",
      "4\n",
      "5\n",
      "6\n",
      "7\n",
      "8\n",
      "9\n"
     ]
    }
   ],
   "source": [
    "matriz = [[1,2,3],[4,5,6],[7,8,9]]\n",
    "\n",
    "for i in range (len(matriz)):\n",
    "    for c in range(len(matriz[i])):\n",
    "        print(matriz[i][c])"
   ]
  },
  {
   "cell_type": "code",
   "execution_count": 12,
   "id": "5b09d1fe",
   "metadata": {},
   "outputs": [
    {
     "name": "stdout",
     "output_type": "stream",
     "text": [
      "Digite o valor na posição 0, 0: 1\n",
      "Digite o valor na posição 0, 1: 2\n",
      "Digite o valor na posição 0, 2: 3\n",
      "Digite o valor na posição 1, 0: 4\n",
      "Digite o valor na posição 1, 1: 5\n",
      "Digite o valor na posição 1, 2: 6\n",
      "Digite o valor na posição 2, 0: 9\n",
      "Digite o valor na posição 2, 1: 8\n",
      "Digite o valor na posição 2, 2: 10\n",
      "[1, 2, 3]\n",
      "[4, 5, 6]\n",
      "[9, 8, 10]\n"
     ]
    }
   ],
   "source": [
    "matriz = [[1,2,3],[4,5,6],[7,8,9]]\n",
    "\n",
    "for i in range (len(matriz)):\n",
    "    for c in range(len(matriz[i])):\n",
    "        matriz[i][c] = int(input(\"Digite o valor na posição %d, %d: \"%(i+1,c+1)))\n",
    "        \n",
    "for linha in matriz:\n",
    "    print(linha)"
   ]
  }
 ],
 "metadata": {
  "kernelspec": {
   "display_name": "Python 3",
   "language": "python",
   "name": "python3"
  },
  "language_info": {
   "codemirror_mode": {
    "name": "ipython",
    "version": 3
   },
   "file_extension": ".py",
   "mimetype": "text/x-python",
   "name": "python",
   "nbconvert_exporter": "python",
   "pygments_lexer": "ipython3",
   "version": "3.8.8"
  }
 },
 "nbformat": 4,
 "nbformat_minor": 5
}
