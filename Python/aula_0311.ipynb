{
 "cells": [
  {
   "cell_type": "code",
   "execution_count": 2,
   "id": "2bc968fb",
   "metadata": {},
   "outputs": [
    {
     "name": "stdout",
     "output_type": "stream",
     "text": [
      "Casa\n",
      "1\n",
      "(5.8, 'Casa')\n"
     ]
    }
   ],
   "source": [
    "#a tupla é um objeto imutável\n",
    "tupla = (1, 5.8, 'Casa')\n",
    "print(tupla[-1])\n",
    "print(tupla[0])\n",
    "print(tupla[1:])"
   ]
  },
  {
   "cell_type": "code",
   "execution_count": 6,
   "id": "bbe136f2",
   "metadata": {},
   "outputs": [
    {
     "name": "stdout",
     "output_type": "stream",
     "text": [
      "3\n",
      "4\n"
     ]
    }
   ],
   "source": [
    "tupla2 = (2,7,8,6,4,1,2,8,9,7,1,4,7)\n",
    "print(tupla2.count(7))\n",
    "print(tupla2.index(4))"
   ]
  },
  {
   "cell_type": "code",
   "execution_count": 8,
   "id": "a2f1b122",
   "metadata": {},
   "outputs": [
    {
     "ename": "SyntaxError",
     "evalue": "cannot assign to function call (Temp/ipykernel_11700/1988507316.py, line 1)",
     "output_type": "error",
     "traceback": [
      "\u001b[1;36m  File \u001b[1;32m\"C:\\Users\\jhona\\AppData\\Local\\Temp/ipykernel_11700/1988507316.py\"\u001b[1;36m, line \u001b[1;32m1\u001b[0m\n\u001b[1;33m    tupla2(0) = 1\u001b[0m\n\u001b[1;37m    ^\u001b[0m\n\u001b[1;31mSyntaxError\u001b[0m\u001b[1;31m:\u001b[0m cannot assign to function call\n"
     ]
    }
   ],
   "source": [
    "tupla2[0] = 1\n"
   ]
  },
  {
   "cell_type": "code",
   "execution_count": 9,
   "id": "d6b6250e",
   "metadata": {},
   "outputs": [],
   "source": [
    "lista = [2,3,5,7]\n",
    "tupla3 = (2,3,5,7)"
   ]
  },
  {
   "cell_type": "code",
   "execution_count": null,
   "id": "8c72e816",
   "metadata": {},
   "outputs": [],
   "source": []
  },
  {
   "cell_type": "code",
   "execution_count": 12,
   "id": "63bc443e",
   "metadata": {},
   "outputs": [
    {
     "data": {
      "text/plain": [
       "set"
      ]
     },
     "execution_count": 12,
     "metadata": {},
     "output_type": "execute_result"
    }
   ],
   "source": [
    "# Conjuntos nao possuem elementos repetidos. Nao suportam indexação e fatiamento\n",
    "#conjuntos\n",
    "\n",
    "conj = set()\n",
    "type(conj)"
   ]
  },
  {
   "cell_type": "code",
   "execution_count": 13,
   "id": "b16e64b4",
   "metadata": {},
   "outputs": [
    {
     "data": {
      "text/plain": [
       "{2, 4, 7, 9}"
      ]
     },
     "execution_count": 13,
     "metadata": {},
     "output_type": "execute_result"
    }
   ],
   "source": [
    "conj.add(2)\n",
    "conj.add(4)\n",
    "conj.add(7)\n",
    "conj.add(2)\n",
    "conj.add(9)\n",
    "conj.add(4)\n",
    "conj.add(2)\n",
    "\n",
    "conj\n"
   ]
  },
  {
   "cell_type": "code",
   "execution_count": 17,
   "id": "1bf678de",
   "metadata": {},
   "outputs": [],
   "source": [
    "s1 = {2,7,8,4,5}\n",
    "s2 = {1,0,9,8,2}\n",
    "\n"
   ]
  },
  {
   "cell_type": "code",
   "execution_count": 18,
   "id": "93fdfb99",
   "metadata": {},
   "outputs": [
    {
     "data": {
      "text/plain": [
       "{0, 1, 2, 4, 5, 7, 8, 9}"
      ]
     },
     "execution_count": 18,
     "metadata": {},
     "output_type": "execute_result"
    }
   ],
   "source": [
    "uniao = s1.union(s2)\n",
    "\n",
    "uniao"
   ]
  },
  {
   "cell_type": "code",
   "execution_count": 21,
   "id": "84c7c5f6",
   "metadata": {},
   "outputs": [
    {
     "data": {
      "text/plain": [
       "{2, 8}"
      ]
     },
     "execution_count": 21,
     "metadata": {},
     "output_type": "execute_result"
    }
   ],
   "source": [
    "inter = s1.intersection(s2)\n",
    "\n",
    "inter"
   ]
  },
  {
   "cell_type": "code",
   "execution_count": 22,
   "id": "9b5f0384",
   "metadata": {},
   "outputs": [
    {
     "data": {
      "text/plain": [
       "{4, 5, 7}"
      ]
     },
     "execution_count": 22,
     "metadata": {},
     "output_type": "execute_result"
    }
   ],
   "source": [
    "difer = s1.difference(s2)\n",
    "difer"
   ]
  },
  {
   "cell_type": "code",
   "execution_count": 23,
   "id": "2646794e",
   "metadata": {},
   "outputs": [
    {
     "name": "stdout",
     "output_type": "stream",
     "text": [
      "[2, 7, 8, 9, 5, 2, 7, 9, 0]\n",
      "{0, 2, 5, 7, 8, 9}\n"
     ]
    }
   ],
   "source": [
    "lista = [2,7,8,9,5,2,7,9,0]\n",
    "conj = set(lista)\n",
    "print(lista)\n",
    "print(conj)"
   ]
  },
  {
   "cell_type": "code",
   "execution_count": null,
   "id": "261cfe01",
   "metadata": {},
   "outputs": [],
   "source": []
  },
  {
   "cell_type": "code",
   "execution_count": 24,
   "id": "4c109cfd",
   "metadata": {},
   "outputs": [
    {
     "data": {
      "text/plain": [
       "{'Robson': 23, 'Matheus': 19, 'Noemi': 20}"
      ]
     },
     "execution_count": 24,
     "metadata": {},
     "output_type": "execute_result"
    }
   ],
   "source": [
    "# Dicionário: conjunto de chaves e valores\n",
    "\n",
    "dic = {'Robson':23, 'Matheus':19, 'Noemi':20}\n",
    "dic"
   ]
  },
  {
   "cell_type": "code",
   "execution_count": 25,
   "id": "8c04cb35",
   "metadata": {},
   "outputs": [
    {
     "data": {
      "text/plain": [
       "19"
      ]
     },
     "execution_count": 25,
     "metadata": {},
     "output_type": "execute_result"
    }
   ],
   "source": [
    "dic['Matheus']"
   ]
  },
  {
   "cell_type": "code",
   "execution_count": 27,
   "id": "ceb0639b",
   "metadata": {},
   "outputs": [
    {
     "data": {
      "text/plain": [
       "{'Robson': 23, 'Matheus': 21, 'Noemi': 20, 'Pedro': 18}"
      ]
     },
     "execution_count": 27,
     "metadata": {},
     "output_type": "execute_result"
    }
   ],
   "source": [
    "dic['Matheus'] = 21 #A chave matheus ja existia, entao seu valor foi alterado\n",
    "dic['Pedro'] = 18 #A chave pedro bao existia, entao foi criado uma nova chave\n",
    "dic"
   ]
  },
  {
   "cell_type": "code",
   "execution_count": 30,
   "id": "33c0c4e2",
   "metadata": {},
   "outputs": [
    {
     "name": "stdout",
     "output_type": "stream",
     "text": [
      "Robson Matheus Noemi Pedro "
     ]
    }
   ],
   "source": [
    "for d in dic:\n",
    "    print(d, end=' ')"
   ]
  },
  {
   "cell_type": "code",
   "execution_count": 32,
   "id": "4b8d55df",
   "metadata": {},
   "outputs": [
    {
     "name": "stdout",
     "output_type": "stream",
     "text": [
      "23 21 20 18 "
     ]
    }
   ],
   "source": [
    "for d in dic: \n",
    "    print(dic[d], end=' ')"
   ]
  },
  {
   "cell_type": "code",
   "execution_count": 35,
   "id": "02df2260",
   "metadata": {},
   "outputs": [
    {
     "name": "stdout",
     "output_type": "stream",
     "text": [
      "dict_items([('Robson', 23), ('Matheus', 21), ('Noemi', 20), ('Pedro', 18)])\n"
     ]
    }
   ],
   "source": [
    "print(dic.items())"
   ]
  },
  {
   "cell_type": "code",
   "execution_count": 36,
   "id": "b07ebe0d",
   "metadata": {},
   "outputs": [
    {
     "name": "stdout",
     "output_type": "stream",
     "text": [
      "dict_keys(['Robson', 'Matheus', 'Noemi', 'Pedro'])\n"
     ]
    }
   ],
   "source": [
    "print(dic.keys())"
   ]
  },
  {
   "cell_type": "code",
   "execution_count": 37,
   "id": "149fcf92",
   "metadata": {},
   "outputs": [
    {
     "name": "stdout",
     "output_type": "stream",
     "text": [
      "dict_values([23, 21, 20, 18])\n"
     ]
    }
   ],
   "source": [
    "print(dic.values())"
   ]
  },
  {
   "cell_type": "code",
   "execution_count": 38,
   "id": "78587372",
   "metadata": {},
   "outputs": [
    {
     "name": "stdout",
     "output_type": "stream",
     "text": [
      "True\n"
     ]
    }
   ],
   "source": [
    "print('Robson' in dic)"
   ]
  },
  {
   "cell_type": "code",
   "execution_count": 40,
   "id": "82af2fc7",
   "metadata": {},
   "outputs": [
    {
     "name": "stdout",
     "output_type": "stream",
     "text": [
      "False\n"
     ]
    }
   ],
   "source": [
    "print('Jorge' in dic)"
   ]
  },
  {
   "cell_type": "code",
   "execution_count": 42,
   "id": "fb140b08",
   "metadata": {},
   "outputs": [
    {
     "name": "stdout",
     "output_type": "stream",
     "text": [
      "False\n"
     ]
    }
   ],
   "source": [
    "lista = [4,8,7,9]\n",
    "print(10 in lista)"
   ]
  },
  {
   "cell_type": "code",
   "execution_count": null,
   "id": "79f1218d",
   "metadata": {},
   "outputs": [],
   "source": []
  }
 ],
 "metadata": {
  "kernelspec": {
   "display_name": "Python 3 (ipykernel)",
   "language": "python",
   "name": "python3"
  },
  "language_info": {
   "codemirror_mode": {
    "name": "ipython",
    "version": 3
   },
   "file_extension": ".py",
   "mimetype": "text/x-python",
   "name": "python",
   "nbconvert_exporter": "python",
   "pygments_lexer": "ipython3",
   "version": "3.9.6"
  }
 },
 "nbformat": 4,
 "nbformat_minor": 5
}
