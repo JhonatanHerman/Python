{
 "cells": [
  {
   "cell_type": "code",
   "execution_count": 1,
   "id": "10cca60f",
   "metadata": {},
   "outputs": [
    {
     "name": "stdout",
     "output_type": "stream",
     "text": [
      "[10, 14, 21, 22, 14, 26, 21, 14, 21, 15]\n"
     ]
    }
   ],
   "source": [
    "lista =[]\n",
    "import random as rd\n",
    "\n",
    "for i in range(10):\n",
    "    lista.append(rd.randint(10,30))\n",
    "\n",
    "print(lista)"
   ]
  },
  {
   "cell_type": "code",
   "execution_count": 2,
   "id": "e395554c",
   "metadata": {},
   "outputs": [
    {
     "name": "stdout",
     "output_type": "stream",
     "text": [
      "[10, 14, 21, 11, 22, 14, 26, 21, 14, 21, 15]\n"
     ]
    }
   ],
   "source": [
    "lista.insert(3,11)\n",
    "print(lista)"
   ]
  },
  {
   "cell_type": "code",
   "execution_count": 3,
   "id": "31da262d",
   "metadata": {},
   "outputs": [
    {
     "name": "stdout",
     "output_type": "stream",
     "text": [
      "[10, 14, 21, 10, 22, 14, 26, 21, 14, 21, 15]\n"
     ]
    }
   ],
   "source": [
    "lista[3] = 10\n",
    "print(lista)"
   ]
  },
  {
   "cell_type": "code",
   "execution_count": 4,
   "id": "6cfe7f79",
   "metadata": {},
   "outputs": [
    {
     "name": "stdout",
     "output_type": "stream",
     "text": [
      "[10, 10, 14, 14, 14, 15, 21, 21, 21, 22, 26]\n"
     ]
    }
   ],
   "source": [
    "lista.sort()\n",
    "print(lista)"
   ]
  },
  {
   "cell_type": "code",
   "execution_count": 6,
   "id": "8fe36747",
   "metadata": {},
   "outputs": [
    {
     "name": "stdout",
     "output_type": "stream",
     "text": [
      "[26, 22, 21, 21, 21, 15, 14, 14, 14, 10, 10]\n"
     ]
    }
   ],
   "source": [
    "lista.reverse()\n",
    "print(lista)"
   ]
  },
  {
   "cell_type": "code",
   "execution_count": 7,
   "id": "424f5652",
   "metadata": {},
   "outputs": [
    {
     "name": "stdout",
     "output_type": "stream",
     "text": [
      "natanohJ\n"
     ]
    }
   ],
   "source": [
    "nome = 'Jhonatan'\n",
    "novoNome = ''\n",
    "for i in nome:\n",
    "    novoNome = i+novoNome\n",
    "print(novoNome)"
   ]
  },
  {
   "cell_type": "code",
   "execution_count": 10,
   "id": "3ca67397",
   "metadata": {},
   "outputs": [
    {
     "name": "stdout",
     "output_type": "stream",
     "text": [
      "natanohJ\n"
     ]
    }
   ],
   "source": [
    "nomeNovo = ''\n",
    "for i in range(len(nome)-1,-1,-1):\n",
    "    nomeNovo+=nome[i]\n",
    "print(nomeNovo)"
   ]
  },
  {
   "cell_type": "code",
   "execution_count": 11,
   "id": "3facb85a",
   "metadata": {},
   "outputs": [
    {
     "name": "stdout",
     "output_type": "stream",
     "text": [
      "[26, 22, 21, 21, 21, 15, 14, 14, 14, 10, 10]\n"
     ]
    }
   ],
   "source": [
    "listacopia = lista\n",
    "print(listacopia)"
   ]
  },
  {
   "cell_type": "code",
   "execution_count": 12,
   "id": "893de713",
   "metadata": {},
   "outputs": [
    {
     "name": "stdout",
     "output_type": "stream",
     "text": [
      "[26, 22, 21, 21, 21, 15, 14, 14, 14, 10, 0]\n"
     ]
    }
   ],
   "source": [
    "lista[-1]=0\n",
    "print(lista)"
   ]
  },
  {
   "cell_type": "code",
   "execution_count": 13,
   "id": "39628274",
   "metadata": {},
   "outputs": [
    {
     "name": "stdout",
     "output_type": "stream",
     "text": [
      "[26, 22, 21, 21, 21, 15, 14, 14, 14, 10, 0]\n"
     ]
    }
   ],
   "source": [
    "print(listacopia)"
   ]
  },
  {
   "cell_type": "code",
   "execution_count": 14,
   "id": "ed69cc67",
   "metadata": {},
   "outputs": [
    {
     "name": "stdout",
     "output_type": "stream",
     "text": [
      "[26, 22, 21, 21, 21, 15, 14, 14, 14, 10, 1]\n",
      "[26, 22, 21, 21, 21, 15, 14, 14, 14, 10, 0]\n"
     ]
    }
   ],
   "source": [
    "listacopia = lista[:]\n",
    "lista[-1] = 1\n",
    "print(lista)\n",
    "print(listacopia)\n"
   ]
  },
  {
   "cell_type": "code",
   "execution_count": 26,
   "id": "929625b5",
   "metadata": {},
   "outputs": [
    {
     "name": "stdout",
     "output_type": "stream",
     "text": [
      "nome do item: Leite\n",
      "item: 3\n",
      "Preço: 4.0\n"
     ]
    }
   ],
   "source": [
    "compras = ['Arroz', 'Feijão', 'Farinha', 'Leite']\n",
    "preço = [20.0, 10.0, 5.0, 4.0]\n",
    "\n",
    "item = compras.index('Leite')\n",
    "\n",
    "print(\"nome do item:\", compras[item])\n",
    "print(\"item:\", item)\n",
    "print(\"Preço:\", preço[item])"
   ]
  },
  {
   "cell_type": "code",
   "execution_count": 30,
   "id": "1c401ef8",
   "metadata": {},
   "outputs": [
    {
     "name": "stdout",
     "output_type": "stream",
     "text": [
      "Digite o RA do funcionário: 456\n",
      "O/A funcionario/A Maria de RA 456 trabalha no setor de Administração\n"
     ]
    }
   ],
   "source": [
    "nome = ['Marcos', 'José', 'Maria']\n",
    "RA = [123, 321, 456]\n",
    "setor = ['Desenvolvimento', 'Faxina', 'Administração']\n",
    "\n",
    "ra = int(input(\"Digite o RA do funcionário: \"))\n",
    "\n",
    "buscado = RA.index(ra)\n",
    "\n",
    "print(\"O/A funcionario/A %s de RA %d trabalha no setor de %s\" % (nome[buscado], RA[buscado], setor[buscado]))\n",
    "\n",
    "#Perguntar o RA do funcionário e listar as informações.\n",
    "# Exemplo: O funcionário Marcos de RA 123 trabalha no setor de Desenvolvimento.\n"
   ]
  },
  {
   "cell_type": "code",
   "execution_count": null,
   "id": "349b4e6b",
   "metadata": {},
   "outputs": [],
   "source": []
  }
 ],
 "metadata": {
  "kernelspec": {
   "display_name": "Python 3",
   "language": "python",
   "name": "python3"
  },
  "language_info": {
   "codemirror_mode": {
    "name": "ipython",
    "version": 3
   },
   "file_extension": ".py",
   "mimetype": "text/x-python",
   "name": "python",
   "nbconvert_exporter": "python",
   "pygments_lexer": "ipython3",
   "version": "3.8.8"
  }
 },
 "nbformat": 4,
 "nbformat_minor": 5
}
