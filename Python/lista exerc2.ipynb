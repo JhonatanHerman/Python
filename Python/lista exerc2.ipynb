{
 "cells": [
  {
   "cell_type": "code",
   "execution_count": 2,
   "id": "f7e370e7",
   "metadata": {},
   "outputs": [
    {
     "name": "stdout",
     "output_type": "stream",
     "text": [
      "Digite uma nota entre 0 e 10: 11\n",
      "NOTA INVALIDA: \n",
      "Digite uma nota entre 0 e 10: 11\n",
      "NOTA INVALIDA: \n",
      "Digite uma nota entre 0 e 10: 11\n",
      "NOTA INVALIDA: \n",
      "Digite uma nota entre 0 e 10: -3\n",
      "NOTA INVALIDA: \n",
      "Digite uma nota entre 0 e 10: 10\n"
     ]
    }
   ],
   "source": [
    "##1 Faça um programa que peça uma nota, entre zero e dez. \n",
    "##Mostre uma mensagem caso o valor seja inválido e continue pedindo \n",
    "##até que o usuário informe um valor válido.\n",
    "\n",
    "\n",
    "\n",
    "nota = float(input(\"Digite uma nota entre 0 e 10: \"))\n",
    "while nota>10 or nota<0:\n",
    "    print(\"NOTA INVALIDA: \")\n",
    "    nota = float(input(\"Digite uma nota entre 0 e 10: \"))\n"
   ]
  },
  {
   "cell_type": "code",
   "execution_count": 9,
   "id": "b624b40b",
   "metadata": {},
   "outputs": [
    {
     "name": "stdout",
     "output_type": "stream",
     "text": [
      "Digite um numero: 5\n",
      "Digite um numero: 5\n",
      "Digite um numero: 5\n",
      "Digite um numero: 5\n",
      "Digite um numero: 5\n",
      "soma:  25\n",
      "media:  5.0\n"
     ]
    }
   ],
   "source": [
    "##2 Faça um programa que leia 5 números e informe a soma e a média dos números\n",
    "\n",
    "numvet = []\n",
    "soma = 0\n",
    "media = 0\n",
    "\n",
    "\n",
    "for i in range(5):\n",
    "    numvet.append(int(input(\"Digite um numero: \")))\n",
    "for j in numvet:\n",
    "    soma += j  \n",
    "    \n",
    "media = soma / 5\n",
    "\n",
    "print(\"soma: \", soma)\n",
    "print(\"media: \", media)"
   ]
  },
  {
   "cell_type": "code",
   "execution_count": 11,
   "id": "e85a601d",
   "metadata": {},
   "outputs": [
    {
     "name": "stdout",
     "output_type": "stream",
     "text": [
      "Digite um numero: 5\n",
      "Digite outro numero: 10\n",
      "6\n",
      "7\n",
      "8\n",
      "9\n"
     ]
    }
   ],
   "source": [
    "##3 Faça um programa que receba dois números inteiros \n",
    "## e gere os números inteiros que estão no intervalo compreendido por eles.\n",
    "\n",
    "num1 = int(input(\"Digite um numero: \"))\n",
    "num2 = int(input(\"Digite outro numero: \"))\n",
    "\n",
    "for i in range(num1+1, num2):\n",
    "    print(i)"
   ]
  },
  {
   "cell_type": "code",
   "execution_count": 12,
   "id": "6bcfb432",
   "metadata": {},
   "outputs": [
    {
     "name": "stdout",
     "output_type": "stream",
     "text": [
      "Digite a base: 5\n",
      "Digite o expoente: 5\n",
      "O resultado é:  3125\n"
     ]
    }
   ],
   "source": [
    "##4 faça um programa que peça dois números, base e expoente, calcule e mostre o \n",
    "## primeiro número elevado ao segundo número. Não utilize a função de potência da linguagem.\n",
    "\n",
    "base = int(input(\"Digite a base: \"))\n",
    "exp = int(input(\"Digite o expoente: \"))\n",
    "\n",
    "potencia = 1\n",
    "\n",
    "for i in range(exp):\n",
    "    potencia *= base\n",
    "    i+=1\n",
    "\n",
    "print(\"O resultado é: \", potencia)"
   ]
  },
  {
   "cell_type": "code",
   "execution_count": 18,
   "id": "5538b9e8",
   "metadata": {},
   "outputs": [
    {
     "name": "stdout",
     "output_type": "stream",
     "text": [
      "Digite um numero: 1\n",
      "Digite um numero: 2\n",
      "Digite um numero: 3\n",
      "Digite um numero: 4\n",
      "Digite um numero: 5\n",
      "Digite um numero: 6\n",
      "Digite um numero: 7\n",
      "Digite um numero: 8\n",
      "Digite um numero: 9\n",
      "Digite um numero: 0\n",
      "Digite um numero: 11\n",
      "Digite um numero: 12\n",
      "Digite um numero: 13\n",
      "Digite um numero: 14\n",
      "Digite um numero: 15\n",
      "Digite um numero: 16\n",
      "Digite um numero: 17\n",
      "Digite um numero: 18\n",
      "Digite um numero: 19\n",
      "Digite um numero: 20\n",
      "[1, 2, 3, 4, 5, 6, 7, 8, 9, 0, 11, 12, 13, 14, 15, 16, 17, 18, 19, 20]\n",
      "a quantidade de pares é:  10\n",
      "a quantidade de impares é:  10\n"
     ]
    }
   ],
   "source": [
    "##5 Faça um programa que peça 20 números inteiros, calcule e mostre \n",
    "##a quantidade de números pares e a quantidade de números ímpares.\n",
    "\n",
    "numint = []\n",
    "pares = []\n",
    "impares = []\n",
    "\n",
    "for i in range(20):\n",
    "    numint.append(int(input(\"Digite um numero: \")))\n",
    "    if (numint[i] %2 == 0):\n",
    "        pares.append(numint[i])\n",
    "    else:\n",
    "        impares.append(numint[i])\n",
    "\n",
    "        \n",
    "print(numint)\n",
    "print(\"a quantidade de pares é: \", len(pares))\n",
    "print(\"a quantidade de impares é: \", len(impares))\n"
   ]
  },
  {
   "cell_type": "markdown",
   "id": "d1bca8da",
   "metadata": {},
   "source": [
    "."
   ]
  },
  {
   "cell_type": "code",
   "execution_count": 2,
   "id": "acc259ff",
   "metadata": {},
   "outputs": [
    {
     "name": "stdout",
     "output_type": "stream",
     "text": [
      "Digite um numero para ser fatorado: 8\n",
      "O numero fatorado é: 40320\n"
     ]
    }
   ],
   "source": [
    "##6 Faça um programa que calcule o fatorial de um \n",
    "##número inteiro fornecido pelo usuário. Ex.: 5!=5.4.3.2.1=120\n",
    "\n",
    "n = int(input(\"Digite um numero para ser fatorado: \"))\n",
    "i = n\n",
    "f = 1\n",
    "\n",
    "while i > 0:\n",
    "    f *= i\n",
    "    i -= 1\n",
    "\n",
    "print(\"O numero fatorado é:\", f)"
   ]
  },
  {
   "cell_type": "code",
   "execution_count": 4,
   "id": "7d7f355a",
   "metadata": {},
   "outputs": [
    {
     "name": "stdout",
     "output_type": "stream",
     "text": [
      "3\n",
      "5\n",
      "7\n",
      "9\n"
     ]
    }
   ],
   "source": [
    "## Faça um programa que imprima na tela apenas os números\n",
    "## ímpares entre dos valores recebidos.\n",
    "\n",
    "for i in range(1+1, 10):\n",
    "    if(i %2 != 0):\n",
    "        print(i)"
   ]
  },
  {
   "cell_type": "code",
   "execution_count": 23,
   "id": "b48bd801",
   "metadata": {},
   "outputs": [
    {
     "name": "stdout",
     "output_type": "stream",
     "text": [
      "Tabuada do: 1\n",
      "1 X 1 = 1\n",
      "1 X 2 = 2\n",
      "1 X 3 = 3\n",
      "1 X 4 = 4\n",
      "1 X 5 = 5\n",
      "1 X 6 = 6\n",
      "1 X 7 = 7\n",
      "1 X 8 = 8\n",
      "1 X 9 = 9\n",
      "1 X 10 = 10\n",
      "\n",
      "\n",
      "Tabuada do: 2\n",
      "2 X 1 = 2\n",
      "2 X 2 = 4\n",
      "2 X 3 = 6\n",
      "2 X 4 = 8\n",
      "2 X 5 = 10\n",
      "2 X 6 = 12\n",
      "2 X 7 = 14\n",
      "2 X 8 = 16\n",
      "2 X 9 = 18\n",
      "2 X 10 = 20\n",
      "\n",
      "\n",
      "Tabuada do: 3\n",
      "3 X 1 = 3\n",
      "3 X 2 = 6\n",
      "3 X 3 = 9\n",
      "3 X 4 = 12\n",
      "3 X 5 = 15\n",
      "3 X 6 = 18\n",
      "3 X 7 = 21\n",
      "3 X 8 = 24\n",
      "3 X 9 = 27\n",
      "3 X 10 = 30\n",
      "\n",
      "\n",
      "Tabuada do: 4\n",
      "4 X 1 = 4\n",
      "4 X 2 = 8\n",
      "4 X 3 = 12\n",
      "4 X 4 = 16\n",
      "4 X 5 = 20\n",
      "4 X 6 = 24\n",
      "4 X 7 = 28\n",
      "4 X 8 = 32\n",
      "4 X 9 = 36\n",
      "4 X 10 = 40\n",
      "\n",
      "\n",
      "Tabuada do: 5\n",
      "5 X 1 = 5\n",
      "5 X 2 = 10\n",
      "5 X 3 = 15\n",
      "5 X 4 = 20\n",
      "5 X 5 = 25\n",
      "5 X 6 = 30\n",
      "5 X 7 = 35\n",
      "5 X 8 = 40\n",
      "5 X 9 = 45\n",
      "5 X 10 = 50\n",
      "\n",
      "\n",
      "Tabuada do: 6\n",
      "6 X 1 = 6\n",
      "6 X 2 = 12\n",
      "6 X 3 = 18\n",
      "6 X 4 = 24\n",
      "6 X 5 = 30\n",
      "6 X 6 = 36\n",
      "6 X 7 = 42\n",
      "6 X 8 = 48\n",
      "6 X 9 = 54\n",
      "6 X 10 = 60\n",
      "\n",
      "\n",
      "Tabuada do: 7\n",
      "7 X 1 = 7\n",
      "7 X 2 = 14\n",
      "7 X 3 = 21\n",
      "7 X 4 = 28\n",
      "7 X 5 = 35\n",
      "7 X 6 = 42\n",
      "7 X 7 = 49\n",
      "7 X 8 = 56\n",
      "7 X 9 = 63\n",
      "7 X 10 = 70\n",
      "\n",
      "\n",
      "Tabuada do: 8\n",
      "8 X 1 = 8\n",
      "8 X 2 = 16\n",
      "8 X 3 = 24\n",
      "8 X 4 = 32\n",
      "8 X 5 = 40\n",
      "8 X 6 = 48\n",
      "8 X 7 = 56\n",
      "8 X 8 = 64\n",
      "8 X 9 = 72\n",
      "8 X 10 = 80\n",
      "\n",
      "\n",
      "Tabuada do: 9\n",
      "9 X 1 = 9\n",
      "9 X 2 = 18\n",
      "9 X 3 = 27\n",
      "9 X 4 = 36\n",
      "9 X 5 = 45\n",
      "9 X 6 = 54\n",
      "9 X 7 = 63\n",
      "9 X 8 = 72\n",
      "9 X 9 = 81\n",
      "9 X 10 = 90\n",
      "\n",
      "\n",
      "Tabuada do: 10\n",
      "10 X 1 = 10\n",
      "10 X 2 = 20\n",
      "10 X 3 = 30\n",
      "10 X 4 = 40\n",
      "10 X 5 = 50\n",
      "10 X 6 = 60\n",
      "10 X 7 = 70\n",
      "10 X 8 = 80\n",
      "10 X 9 = 90\n",
      "10 X 10 = 100\n",
      "\n",
      "\n"
     ]
    }
   ],
   "source": [
    "##8 (Desafio) Faça um programa que apresenta a tabuada completa de 1 a 10.\n",
    "k = 1\n",
    "j = 1\n",
    "\n",
    "for k in range(1,11):\n",
    "    print(\"Tabuada do: %d\" % k)\n",
    "    for j in range(1,11):\n",
    "        print(\"%d X %d = %d\" % (k, j, (k*j)))\n",
    "    print(\"\\n\")"
   ]
  },
  {
   "cell_type": "code",
   "execution_count": null,
   "id": "c3c37086",
   "metadata": {},
   "outputs": [],
   "source": []
  }
 ],
 "metadata": {
  "kernelspec": {
   "display_name": "Python 3 (ipykernel)",
   "language": "python",
   "name": "python3"
  },
  "language_info": {
   "codemirror_mode": {
    "name": "ipython",
    "version": 3
   },
   "file_extension": ".py",
   "mimetype": "text/x-python",
   "name": "python",
   "nbconvert_exporter": "python",
   "pygments_lexer": "ipython3",
   "version": "3.8.10"
  }
 },
 "nbformat": 4,
 "nbformat_minor": 5
}
