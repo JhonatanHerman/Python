{
 "cells": [
  {
   "cell_type": "code",
   "execution_count": 1,
   "id": "d62f20df",
   "metadata": {},
   "outputs": [
    {
     "name": "stdout",
     "output_type": "stream",
     "text": [
      "4\n",
      "[5, 8, 7, 9]\n"
     ]
    }
   ],
   "source": [
    "# Listas\n",
    "\n",
    "lista1= [ 5, 8, 7, 9]\n",
    "print(len(lista1))\n",
    "print(lista1)"
   ]
  },
  {
   "cell_type": "code",
   "execution_count": 2,
   "id": "08fa9cab",
   "metadata": {},
   "outputs": [
    {
     "name": "stdout",
     "output_type": "stream",
     "text": [
      "5\n",
      "[5, 8, 'Python', False, 5.8]\n",
      "Python\n"
     ]
    }
   ],
   "source": [
    "lista2= [5, 8, 'Python', False, 5.8]\n",
    "print(len(lista2))\n",
    "print(lista2)\n",
    "print(lista2[2])"
   ]
  },
  {
   "cell_type": "code",
   "execution_count": 3,
   "id": "77d5d562",
   "metadata": {},
   "outputs": [
    {
     "name": "stdout",
     "output_type": "stream",
     "text": [
      "6\n",
      "4\n"
     ]
    }
   ],
   "source": [
    "lista3= [8,[6, 5, 7], 1, 0,['Arroz','Feijão','Farinha', 'Leite'], 5.6]\n",
    "print(len(lista3))\n",
    "print(len(lista3[4]))"
   ]
  },
  {
   "cell_type": "code",
   "execution_count": 4,
   "id": "b70624c8",
   "metadata": {},
   "outputs": [
    {
     "name": "stdout",
     "output_type": "stream",
     "text": [
      "['Arroz', 'Feijão', 'Farinha', 'Leite']\n",
      "Farinha\n"
     ]
    }
   ],
   "source": [
    "print(lista3[4])\n",
    "print(lista3[4][2])"
   ]
  },
  {
   "cell_type": "code",
   "execution_count": 5,
   "id": "4c61eee9",
   "metadata": {},
   "outputs": [
    {
     "name": "stdout",
     "output_type": "stream",
     "text": [
      "5.6\n",
      "Leite\n"
     ]
    }
   ],
   "source": [
    "print(lista3[-1])\n",
    "print(lista3[-2][-1])"
   ]
  },
  {
   "cell_type": "code",
   "execution_count": 6,
   "id": "b71f89fb",
   "metadata": {},
   "outputs": [
    {
     "name": "stdout",
     "output_type": "stream",
     "text": [
      "8\n",
      "[6, 5, 7]\n",
      "1\n",
      "0\n",
      "['Arroz', 'Feijão', 'Farinha', 'Leite']\n",
      "5.6\n"
     ]
    }
   ],
   "source": [
    "for i in lista3:\n",
    "    print(i)"
   ]
  },
  {
   "cell_type": "code",
   "execution_count": 7,
   "id": "ee9dd936",
   "metadata": {},
   "outputs": [
    {
     "name": "stdout",
     "output_type": "stream",
     "text": [
      "Arroz\n",
      "Feijão\n",
      "Farinha\n",
      "Leite\n"
     ]
    }
   ],
   "source": [
    "for i in lista3[4]:\n",
    "    print(i)"
   ]
  },
  {
   "cell_type": "code",
   "execution_count": 8,
   "id": "a1e39100",
   "metadata": {},
   "outputs": [
    {
     "name": "stdout",
     "output_type": "stream",
     "text": [
      "P\n",
      "R\n",
      "O\n",
      "G\n",
      "R\n",
      "A\n",
      "M\n",
      "A\n",
      "C\n",
      "A\n",
      "O\n"
     ]
    }
   ],
   "source": [
    "curso=\"PROGRAMACAO\"\n",
    "for c in curso:\n",
    "    print(c)"
   ]
  },
  {
   "cell_type": "code",
   "execution_count": 9,
   "id": "e3a28c7f",
   "metadata": {},
   "outputs": [
    {
     "name": "stdout",
     "output_type": "stream",
     "text": [
      "[1, 2, 3, 4]\n"
     ]
    }
   ],
   "source": [
    "lista4= [1,2,3]\n",
    "lista4.append(4)\n",
    "print(lista4)"
   ]
  },
  {
   "cell_type": "code",
   "execution_count": 10,
   "id": "98b56796",
   "metadata": {},
   "outputs": [
    {
     "name": "stdout",
     "output_type": "stream",
     "text": [
      "[1, 2, 3, 4, [3, 2, 1]]\n"
     ]
    }
   ],
   "source": [
    "lista4.append([3,2,1])\n",
    "print(lista4)"
   ]
  },
  {
   "cell_type": "code",
   "execution_count": 12,
   "id": "ea53a7f1",
   "metadata": {},
   "outputs": [
    {
     "name": "stdout",
     "output_type": "stream",
     "text": [
      "digite o 1º Número: 8\n",
      "digite o 2º Número: 6\n",
      "digite o 3º Número: 5\n",
      "[8, 6, 5]\n"
     ]
    }
   ],
   "source": [
    "lista5= []\n",
    "for i in range(3):\n",
    "    lista5.append(int(input(\"digite o %dº Número: \"%(i+1))))\n",
    "    \n",
    "print(lista5)"
   ]
  },
  {
   "cell_type": "code",
   "execution_count": 13,
   "id": "4646f33d",
   "metadata": {},
   "outputs": [
    {
     "name": "stdout",
     "output_type": "stream",
     "text": [
      "[5, 8, 7, 9]\n"
     ]
    }
   ],
   "source": [
    "lista6= [ 5, 8, 7, 9]\n",
    "print(lista1)"
   ]
  },
  {
   "cell_type": "code",
   "execution_count": 14,
   "id": "70270717",
   "metadata": {},
   "outputs": [
    {
     "name": "stdout",
     "output_type": "stream",
     "text": [
      "8\n",
      "[5, 8, 7, 9]\n"
     ]
    }
   ],
   "source": [
    "# Alterar o valor de um item da lista\n",
    "\n",
    "print(lista6[1])\n",
    "lista6[3] =10\n",
    "print(lista1)"
   ]
  },
  {
   "cell_type": "code",
   "execution_count": 15,
   "id": "216d6208",
   "metadata": {},
   "outputs": [
    {
     "name": "stdout",
     "output_type": "stream",
     "text": [
      "[6, 5, 8, 7, 10]\n"
     ]
    }
   ],
   "source": [
    "# Inserir um\n",
    "lista6.insert(0, 6)\n",
    "print(lista6)"
   ]
  },
  {
   "cell_type": "code",
   "execution_count": 16,
   "id": "8a250767",
   "metadata": {},
   "outputs": [
    {
     "name": "stdout",
     "output_type": "stream",
     "text": [
      "[6, 5, 3, 8, 7, 10]\n"
     ]
    }
   ],
   "source": [
    "lista6.insert(2, 3)\n",
    "print(lista6)"
   ]
  },
  {
   "cell_type": "code",
   "execution_count": 17,
   "id": "ce9f1228",
   "metadata": {},
   "outputs": [
    {
     "name": "stdout",
     "output_type": "stream",
     "text": [
      "[6, 5, 3, 8, 10]\n"
     ]
    }
   ],
   "source": [
    "del lista6[4]\n",
    "print(lista6)"
   ]
  },
  {
   "cell_type": "code",
   "execution_count": 18,
   "id": "98f1aa5a",
   "metadata": {},
   "outputs": [
    {
     "name": "stdout",
     "output_type": "stream",
     "text": [
      "[6, 5, 3, 8]\n",
      "10\n"
     ]
    }
   ],
   "source": [
    "valor1 = lista6.pop()\n",
    "\n",
    "print(lista6)\n",
    "print(valor1)"
   ]
  },
  {
   "cell_type": "code",
   "execution_count": 19,
   "id": "3c08459d",
   "metadata": {},
   "outputs": [
    {
     "name": "stdout",
     "output_type": "stream",
     "text": [
      "[6, 3, 8]\n",
      "5\n"
     ]
    }
   ],
   "source": [
    "valor2 = lista6.pop(1)\n",
    "print(lista6)\n",
    "print(valor2)"
   ]
  },
  {
   "cell_type": "code",
   "execution_count": 20,
   "id": "124d2e3f",
   "metadata": {},
   "outputs": [
    {
     "name": "stdout",
     "output_type": "stream",
     "text": [
      "[0, 2, 0, 2, 3, 2, 6, 3, 9, 6]\n"
     ]
    }
   ],
   "source": [
    "import random as rd\n",
    "lista7= []\n",
    "for i in range(10):\n",
    "    lista7.append(rd.randint(0,10))\n",
    "print(lista7)"
   ]
  },
  {
   "cell_type": "code",
   "execution_count": 21,
   "id": "afa823c4",
   "metadata": {},
   "outputs": [
    {
     "name": "stdout",
     "output_type": "stream",
     "text": [
      "[0, 0, 2, 2, 2, 3, 3, 6, 6, 9]\n"
     ]
    }
   ],
   "source": [
    "lista7.sort()\n",
    "print(lista7)"
   ]
  },
  {
   "cell_type": "code",
   "execution_count": 22,
   "id": "31a7f12b",
   "metadata": {},
   "outputs": [
    {
     "name": "stdout",
     "output_type": "stream",
     "text": [
      "9\n",
      "6\n",
      "6\n",
      "3\n",
      "3\n",
      "2\n",
      "2\n",
      "2\n",
      "0\n",
      "0\n"
     ]
    }
   ],
   "source": [
    "for j in range(1,len(lista7)+1):\n",
    "    print(lista7[-j])"
   ]
  },
  {
   "cell_type": "code",
   "execution_count": 23,
   "id": "01945f7f",
   "metadata": {},
   "outputs": [
    {
     "name": "stdout",
     "output_type": "stream",
     "text": [
      "[9, 6, 6, 3, 3, 2, 2, 2, 0, 0]\n"
     ]
    }
   ],
   "source": [
    "lista7.reverse()\n",
    "print(lista7)"
   ]
  },
  {
   "cell_type": "code",
   "execution_count": 24,
   "id": "eec88f00",
   "metadata": {},
   "outputs": [
    {
     "name": "stdout",
     "output_type": "stream",
     "text": [
      "[1, 2, 3, 4, 5]\n"
     ]
    }
   ],
   "source": [
    "# Copiar listas\n",
    "# As duas sofrem as alterações. Elas apontam para o mesmo objeto\n",
    "\n",
    "lista_orig= [1,2,3,4,5]\n",
    "lista_copia=lista_orig\n",
    "\n",
    "print(lista_copia)"
   ]
  },
  {
   "cell_type": "code",
   "execution_count": 25,
   "id": "80073477",
   "metadata": {},
   "outputs": [
    {
     "name": "stdout",
     "output_type": "stream",
     "text": [
      "[1, 2, 0, 4, 5]\n",
      "[1, 2, 0, 4, 5]\n"
     ]
    }
   ],
   "source": [
    "lista_copia[2] =0\n",
    "print(lista_orig)\n",
    "print(lista_copia)"
   ]
  },
  {
   "cell_type": "code",
   "execution_count": 26,
   "id": "1421d65a",
   "metadata": {},
   "outputs": [
    {
     "name": "stdout",
     "output_type": "stream",
     "text": [
      "[1, 2, 3, 4, 5]\n",
      "[1, 2, 0, 4, 5]\n"
     ]
    }
   ],
   "source": [
    "# Clonar listas\n",
    "# Não mantém a referência entre elas\n",
    "lista_orig= [1,2,3,4,5]\n",
    "lista_copia=lista_orig[:]\n",
    "\n",
    "lista_copia[2] =0\n",
    "print(lista_orig)\n",
    "print(lista_copia)"
   ]
  },
  {
   "cell_type": "code",
   "execution_count": 27,
   "id": "ef82b915",
   "metadata": {},
   "outputs": [
    {
     "name": "stdout",
     "output_type": "stream",
     "text": [
      "[1, 2, 3, 4, 5, 6, 7, 8, 9, 10]\n"
     ]
    }
   ],
   "source": [
    "# Juntar listas\n",
    "\n",
    "lista1= [1,2,3,4,5]\n",
    "lista2= [6,7,8,9,10]\n",
    "lista3=lista1+lista2\n",
    "print(lista3)"
   ]
  },
  {
   "cell_type": "code",
   "execution_count": 28,
   "id": "09b717df",
   "metadata": {},
   "outputs": [
    {
     "name": "stdout",
     "output_type": "stream",
     "text": [
      "2\n",
      "Farinha\n"
     ]
    }
   ],
   "source": [
    "# Buscar um elemento por seu índice\n",
    "\n",
    "compras= ['Arroz','Feijão','Farinha', 'Leite']\n",
    "\n",
    "item=compras.index('Farinha')\n",
    "\n",
    "print(item)\n",
    "print(compras[item])"
   ]
  },
  {
   "cell_type": "code",
   "execution_count": 31,
   "id": "38fe2a11",
   "metadata": {},
   "outputs": [
    {
     "name": "stdout",
     "output_type": "stream",
     "text": [
      "Entre com o RA do Funcionário: 784\n",
      "1\n",
      "O Funcionário Jostrebaldo (RA: 784) trabalha no setor de Segurança\n"
     ]
    }
   ],
   "source": [
    "nome= [\"Rosenildson\", \"Jostrebaldo\", \"Gestrudes\"]\n",
    "RA= [123,784,852]\n",
    "setor= [\"Manutenção\", \"Segurança\", \"Suporte\"]\n",
    "\n",
    "busca=int(input(\"Entre com o RA do Funcionário: \"))\n",
    "    \n",
    "    \n",
    "indice= RA.index(busca)\n",
    "    \n",
    "print(indice)\n",
    "    \n",
    "print (\"O Funcionário %s (RA: %s) trabalha no setor de %s\" % (nome[indice],RA[indice],setor[indice]))"
   ]
  },
  {
   "cell_type": "code",
   "execution_count": 35,
   "id": "5de5c811",
   "metadata": {},
   "outputs": [
    {
     "name": "stdout",
     "output_type": "stream",
     "text": [
      "Entre com o RA do Funcionário: 741\n",
      "Funcionario não encontrado\n"
     ]
    }
   ],
   "source": [
    "nome= [\"Rosenildson\", \"Jostrebaldo\", \"Gestrudes\"]\n",
    "RA= [123,784,852]\n",
    "setor= [\"Manutenção\", \"Segurança\", \"Suporte\"]\n",
    "\n",
    "busca=int(input(\"Entre com o RA do Funcionário: \"))\n",
    "\n",
    "try:\n",
    "    indice=RA.index(busca)\n",
    "    \n",
    "    print(indice)\n",
    "    \n",
    "    print(\"O Funcionário %s (RA: %s) trabalha no setor de %s\"%(nome[indice],RA[indice]))\n",
    "except:\n",
    "    print(\"Funcionario não encontrado\")"
   ]
  },
  {
   "cell_type": "code",
   "execution_count": 36,
   "id": "39dd7011",
   "metadata": {},
   "outputs": [
    {
     "name": "stdout",
     "output_type": "stream",
     "text": [
      "Menor nota:  5.0\n",
      "Maior nota:  8.0\n",
      "Soma:  26.0\n"
     ]
    }
   ],
   "source": [
    "# Maior, Menor e Soma\n",
    "\n",
    "notas= [8.0,5.0,7.0,6.0]\n",
    "\n",
    "# Menor número\n",
    "menor=notas[0]\n",
    "maior=notas[0]\n",
    "soma=0\n",
    "for i in notas:\n",
    "    soma+=i\n",
    "    if i<menor:\n",
    "        menor=i\n",
    "    if i>maior:\n",
    "        maior=i\n",
    "        \n",
    "print(\"Menor nota: \",menor)\n",
    "print(\"Maior nota: \",maior)\n",
    "print(\"Soma: \",soma)"
   ]
  },
  {
   "cell_type": "code",
   "execution_count": 37,
   "id": "30a4ee7b",
   "metadata": {},
   "outputs": [
    {
     "name": "stdout",
     "output_type": "stream",
     "text": [
      "Menor nota:  5.0\n",
      "Maior nota:  8.0\n",
      "Soma:  26.0\n"
     ]
    }
   ],
   "source": [
    "print(\"Menor nota: \",min(notas))\n",
    "print(\"Maior nota: \",max(notas))\n",
    "print(\"Soma: \",sum(notas))"
   ]
  },
  {
   "cell_type": "code",
   "execution_count": 42,
   "id": "27f034ea",
   "metadata": {},
   "outputs": [
    {
     "name": "stdout",
     "output_type": "stream",
     "text": [
      "Digite o nome do aluno: Mrcos\n",
      "Digite a nota do aluno: 8\n",
      "Deseja digitar a noda de outro aluno?  ('S' para sim): S\n",
      "Digite o nome do aluno: Jostrebaldo\n",
      "Digite a nota do aluno: 5\n",
      "Deseja digitar a noda de outro aluno?  ('S' para sim): \n",
      "\n",
      "Todos os alunos cadastrados:\n",
      "Mrcos: 8\n",
      "Jostrebaldo: 5\n",
      "\n",
      "Media da turma:  6.5\n",
      "\n",
      "Aprovados:\n",
      "Mrcos\n",
      "\n",
      "Reprovados:\n",
      "Jostrebaldo\n"
     ]
    }
   ],
   "source": [
    "alunos= []\n",
    "notas= []\n",
    "aprovados= []\n",
    "reprovados= []\n",
    "continuar='S';\n",
    "cont=0\n",
    "\n",
    "while continuar.upper() =='S':\n",
    "    cont+=1\n",
    "    aluno=input(\"Digite o nome do aluno: \")\n",
    "    alunos.append(aluno)\n",
    "    nota=int(input(\"Digite a nota do aluno: \"))\n",
    "    notas.append(nota)\n",
    "    if(nota<6):\n",
    "        reprovados.append(aluno)\n",
    "    else:\n",
    "        aprovados.append(aluno)\n",
    "        \n",
    "    continuar=input(\"Deseja digitar a noda de outro aluno?  ('S' para sim): \")\n",
    "    \n",
    "\n",
    "print(\"\\nTodos os alunos cadastrados:\")\n",
    "for i in range(len(alunos)):\n",
    "    print(\"%s: %s\"%(alunos[i],notas[i]))\n",
    "    \n",
    "print('\\nMedia da turma: ',sum(notas)/cont)\n",
    "print(\"\\nAprovados:\")\n",
    "\n",
    "for i in aprovados:\n",
    "    print(i)\n",
    "\n",
    "    print(\"\\nReprovados:\")\n",
    "for i in reprovados:\n",
    "    print(i)"
   ]
  },
  {
   "cell_type": "code",
   "execution_count": 44,
   "id": "206d48ac",
   "metadata": {},
   "outputs": [
    {
     "name": "stdout",
     "output_type": "stream",
     "text": [
      "Digite quantas vezes vão ser digitadas:  4\n",
      "Digite a 1º nota: 6\n",
      "Digite a 2º nota: 7\n",
      "Digite a 3º nota: 8\n",
      "Digite a 4º nota: 9\n",
      "[6, 7, 8, 9]\n"
     ]
    }
   ],
   "source": [
    "##Exercício\n",
    "#Perguntar ao usuário quantas notas deseja digitar e criar uma lista com os valores entrados (pedir cada valor)\n",
    "#de acordo com a quantidade informada\n",
    "\n",
    "qtdnotas = int(input(\"Digite quantas vezes vão ser digitadas:  \"))\n",
    "listanotas = []\n",
    "\n",
    "for i in range(qtdnotas):\n",
    "    nota = int(input(\"Digite a %dº nota: \" %(i+1)))\n",
    "    listanotas.append(nota)\n",
    "    \n",
    "print(listanotas)"
   ]
  },
  {
   "cell_type": "code",
   "execution_count": null,
   "id": "a5b76abc",
   "metadata": {},
   "outputs": [],
   "source": []
  }
 ],
 "metadata": {
  "kernelspec": {
   "display_name": "Python 3 (ipykernel)",
   "language": "python",
   "name": "python3"
  },
  "language_info": {
   "codemirror_mode": {
    "name": "ipython",
    "version": 3
   },
   "file_extension": ".py",
   "mimetype": "text/x-python",
   "name": "python",
   "nbconvert_exporter": "python",
   "pygments_lexer": "ipython3",
   "version": "3.8.10"
  }
 },
 "nbformat": 4,
 "nbformat_minor": 5
}
