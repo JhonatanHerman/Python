{
 "cells": [
  {
   "cell_type": "code",
   "execution_count": 1,
   "id": "010caf9a",
   "metadata": {},
   "outputs": [],
   "source": [
    "lista = [1,2,3,4,5,6,7,8,9,10]"
   ]
  },
  {
   "cell_type": "code",
   "execution_count": 2,
   "id": "2d309403",
   "metadata": {},
   "outputs": [
    {
     "data": {
      "text/plain": [
       "10"
      ]
     },
     "execution_count": 2,
     "metadata": {},
     "output_type": "execute_result"
    }
   ],
   "source": [
    "len(lista)"
   ]
  },
  {
   "cell_type": "code",
   "execution_count": null,
   "id": "11df7806",
   "metadata": {},
   "outputs": [
    {
     "name": "stdout",
     "output_type": "stream",
     "text": [
      "Digite a nota: 5\n",
      "Programa encerrado\n",
      "Digite a nota: 10\n",
      "Programa encerrado\n"
     ]
    }
   ],
   "source": [
    "qtdlidos = 0\n",
    "valor=0\n",
    "notas = []\n",
    "\n",
    "while valor != -1:\n",
    "    valor = float(input(\"Digite a nota: \"))\n",
    "    qtdlidos+=1\n",
    "    if valor <= -1:\n",
    "        notas.append(valor)\n",
    "    else:\n",
    "        print(\"Programa encerrado\")\n",
    "    \n",
    "print(notas[::-1])\n",
    "    \n",
    "print(\"Qtd de valores lidos: \", qtdlidos)\n",
    "print(\"vetor: \", notas)"
   ]
  },
  {
   "cell_type": "code",
   "execution_count": null,
   "id": "36e94203",
   "metadata": {},
   "outputs": [],
   "source": []
  },
  {
   "cell_type": "code",
   "execution_count": null,
   "id": "a251867e",
   "metadata": {},
   "outputs": [],
   "source": []
  }
 ],
 "metadata": {
  "kernelspec": {
   "display_name": "Python 3",
   "language": "python",
   "name": "python3"
  },
  "language_info": {
   "codemirror_mode": {
    "name": "ipython",
    "version": 3
   },
   "file_extension": ".py",
   "mimetype": "text/x-python",
   "name": "python",
   "nbconvert_exporter": "python",
   "pygments_lexer": "ipython3",
   "version": "3.8.8"
  }
 },
 "nbformat": 4,
 "nbformat_minor": 5
}
