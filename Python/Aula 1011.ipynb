{
 "cells": [
  {
   "cell_type": "code",
   "execution_count": 142,
   "id": "a134c6a1",
   "metadata": {},
   "outputs": [],
   "source": [
    "class Conta():\n",
    "    \n",
    "    def __init__(self, numero, nome, agencia, credito):\n",
    "        self.numero = numero\n",
    "        self.nome = nome\n",
    "        self.agencia = agencia\n",
    "        self.saldo = credito\n",
    "       \n",
    "        \n",
    "    def sacar(self, valor):\n",
    "        saldo = self.saldo\n",
    "        if(saldo < valor):\n",
    "            print(self.nome + \" voce nao pode sacar mais do que o limite\")\n",
    "        else:\n",
    "            self.saldo -= valor\n",
    "        \n",
    "    def depositar(self, valor):\n",
    "        self.saldo += valor\n",
    "        \n",
    "    def verSaldo(self):\n",
    "        print(\"Senhor(A) \"+ self.nome + \" cliente da conta: \"+ str(self.numero) + \",\" + \" da agencia: \" + str(self.agencia) + \",\" +\"  seu saldo é \" + str(self.saldo) + \"RS\")"
   ]
  },
  {
   "cell_type": "code",
   "execution_count": 143,
   "id": "1272389c",
   "metadata": {},
   "outputs": [],
   "source": [
    "conta1 = Conta(444, 'jhonatan', 3, 500)\n",
    "conta2 = Conta(555, 'junin', 5, 1000)"
   ]
  },
  {
   "cell_type": "code",
   "execution_count": 144,
   "id": "bd1dd301",
   "metadata": {},
   "outputs": [],
   "source": [
    "conta1.depositar(50)\n",
    "conta2.depositar(100)"
   ]
  },
  {
   "cell_type": "code",
   "execution_count": 145,
   "id": "c0590ceb",
   "metadata": {},
   "outputs": [
    {
     "name": "stdout",
     "output_type": "stream",
     "text": [
      "jhonatan voce nao pode sacar mais do que o limite\n"
     ]
    }
   ],
   "source": [
    "conta1.sacar(600)\n",
    "conta2.sacar(150)"
   ]
  },
  {
   "cell_type": "code",
   "execution_count": 146,
   "id": "8452f7e7",
   "metadata": {},
   "outputs": [
    {
     "name": "stdout",
     "output_type": "stream",
     "text": [
      "Senhor(A) jhonatan cliente da conta: 444, da agencia: 3,  seu saldo é 550RS\n",
      "Senhor(A) junin cliente da conta: 555, da agencia: 5,  seu saldo é 950RS\n"
     ]
    }
   ],
   "source": [
    "conta1.verSaldo()\n",
    "conta2.verSaldo()"
   ]
  },
  {
   "cell_type": "code",
   "execution_count": null,
   "id": "5116f553",
   "metadata": {},
   "outputs": [],
   "source": []
  }
 ],
 "metadata": {
  "kernelspec": {
   "display_name": "Python 3 (ipykernel)",
   "language": "python",
   "name": "python3"
  },
  "language_info": {
   "codemirror_mode": {
    "name": "ipython",
    "version": 3
   },
   "file_extension": ".py",
   "mimetype": "text/x-python",
   "name": "python",
   "nbconvert_exporter": "python",
   "pygments_lexer": "ipython3",
   "version": "3.9.6"
  }
 },
 "nbformat": 4,
 "nbformat_minor": 5
}
