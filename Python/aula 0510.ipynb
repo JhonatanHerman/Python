{
 "cells": [
  {
   "cell_type": "code",
   "execution_count": 1,
   "id": "3a34b3dd",
   "metadata": {},
   "outputs": [
    {
     "name": "stdout",
     "output_type": "stream",
     "text": [
      "[3, 4, 5, 6]\n"
     ]
    }
   ],
   "source": [
    "#fatiamento de listas\n",
    "\n",
    "lista1 = [1,2,3,4,5,6,7,8,9,10]\n",
    "lista2 = lista1[2:6]\n",
    "\n",
    "print(lista2)"
   ]
  },
  {
   "cell_type": "code",
   "execution_count": 2,
   "id": "39def56e",
   "metadata": {},
   "outputs": [
    {
     "name": "stdout",
     "output_type": "stream",
     "text": [
      "10\n"
     ]
    }
   ],
   "source": [
    "print(lista1[9])"
   ]
  },
  {
   "cell_type": "code",
   "execution_count": 4,
   "id": "3c2bd679",
   "metadata": {},
   "outputs": [
    {
     "data": {
      "text/plain": [
       "[1, 2, 3, 4, 5]"
      ]
     },
     "execution_count": 4,
     "metadata": {},
     "output_type": "execute_result"
    }
   ],
   "source": [
    "lista3 = lista1[:5]\n",
    "lista3"
   ]
  },
  {
   "cell_type": "code",
   "execution_count": 6,
   "id": "896d4088",
   "metadata": {},
   "outputs": [
    {
     "data": {
      "text/plain": [
       "[2, 4, 6, 8]"
      ]
     },
     "execution_count": 6,
     "metadata": {},
     "output_type": "execute_result"
    }
   ],
   "source": [
    "lista4 = lista1[1:8:2]\n",
    "lista4"
   ]
  },
  {
   "cell_type": "code",
   "execution_count": 7,
   "id": "f3d2185a",
   "metadata": {},
   "outputs": [
    {
     "name": "stdout",
     "output_type": "stream",
     "text": [
      "[1, 2, 3, 4, 5, 6, 7, 8, 9, 10]\n",
      "[1, 2, 3, 4, 5, 6, 7, 8, 9, 10]\n",
      "[1, 2, 3, 4, 5, 6, 7, 8, 9, 10]\n",
      "[1, 2, 3, 4, 5, 6, 7, 8, 9, 10]\n"
     ]
    }
   ],
   "source": [
    "lista = [1,2,3,4,5,6,7,8,9,10]\n",
    "print(lista)\n",
    "print(lista[0:10])\n",
    "print(lista[:10])\n",
    "print(lista[:])"
   ]
  },
  {
   "cell_type": "code",
   "execution_count": 8,
   "id": "7cb7ca9d",
   "metadata": {},
   "outputs": [
    {
     "name": "stdout",
     "output_type": "stream",
     "text": [
      "[10, 9, 8, 7, 6, 5, 4, 3, 2, 1]\n"
     ]
    }
   ],
   "source": [
    "lista5 = lista[::-1]\n",
    "print(lista5)"
   ]
  },
  {
   "cell_type": "code",
   "execution_count": 9,
   "id": "07f77efc",
   "metadata": {},
   "outputs": [
    {
     "name": "stdout",
     "output_type": "stream",
     "text": [
      "natanohJ\n"
     ]
    }
   ],
   "source": [
    "nome = \"Jhonatan\"\n",
    "print(nome[::-1])"
   ]
  },
  {
   "cell_type": "code",
   "execution_count": 10,
   "id": "9abdf415",
   "metadata": {},
   "outputs": [
    {
     "name": "stdout",
     "output_type": "stream",
     "text": [
      "Jhonat\n"
     ]
    }
   ],
   "source": [
    "print(nome[:6])"
   ]
  },
  {
   "cell_type": "code",
   "execution_count": 13,
   "id": "27911e88",
   "metadata": {},
   "outputs": [
    {
     "name": "stdout",
     "output_type": "stream",
     "text": [
      "Jhonatan\n",
      "honatan\n",
      "onatan\n",
      "natan\n",
      "atan\n",
      "tan\n",
      "an\n",
      "n\n",
      "\n"
     ]
    }
   ],
   "source": [
    "for i in range(len(nome)+1):\n",
    "    print(nome[i:])"
   ]
  },
  {
   "cell_type": "code",
   "execution_count": 25,
   "id": "e04db836",
   "metadata": {},
   "outputs": [
    {
     "name": "stdout",
     "output_type": "stream",
     "text": [
      "O elemento 6 está na lista!\n"
     ]
    }
   ],
   "source": [
    "lista = [1,2,3,4,5,6,7,8,9,10]\n",
    "elemento = 6\n",
    "\n",
    "if elemento in lista:\n",
    "    print(\"O elemento\", elemento, \"está na lista!\")\n",
    "else:\n",
    "    print(\"O elemento\", elemento, \"não está na lista!\")"
   ]
  },
  {
   "cell_type": "code",
   "execution_count": 26,
   "id": "f45a6e7c",
   "metadata": {},
   "outputs": [
    {
     "data": {
      "text/plain": [
       "False"
      ]
     },
     "execution_count": 26,
     "metadata": {},
     "output_type": "execute_result"
    }
   ],
   "source": [
    "elemento not in lista"
   ]
  },
  {
   "cell_type": "code",
   "execution_count": 33,
   "id": "f1a23fc6",
   "metadata": {},
   "outputs": [
    {
     "name": "stdout",
     "output_type": "stream",
     "text": [
      "['Jhonatan Herman Eichemberger']\n"
     ]
    }
   ],
   "source": [
    "nomemeu = \"Jhonatan Herman Eichemberger\"\n",
    "nome = nomemeu.split(';')\n",
    "print(nome)"
   ]
  },
  {
   "cell_type": "code",
   "execution_count": 29,
   "id": "f18a5ee9",
   "metadata": {},
   "outputs": [
    {
     "name": "stdout",
     "output_type": "stream",
     "text": [
      "\n",
      "J\n",
      "Jh\n",
      "Jho\n",
      "Jhon\n",
      "Jhona\n",
      "Jhonat\n",
      "Jhonata\n",
      "Jhonatan\n",
      "Jhonatan \n",
      "Jhonatan H\n",
      "Jhonatan He\n",
      "Jhonatan Her\n",
      "Jhonatan Herm\n",
      "Jhonatan Herma\n",
      "Jhonatan Herman\n",
      "Jhonatan Herman \n",
      "Jhonatan Herman E\n",
      "Jhonatan Herman Ei\n",
      "Jhonatan Herman Eic\n",
      "Jhonatan Herman Eich\n",
      "Jhonatan Herman Eiche\n",
      "Jhonatan Herman Eichem\n",
      "Jhonatan Herman Eichemb\n",
      "Jhonatan Herman Eichembe\n",
      "Jhonatan Herman Eichember\n",
      "Jhonatan Herman Eichemberg\n",
      "Jhonatan Herman Eichemberge\n",
      "Jhonatan Herman Eichemberger\n"
     ]
    }
   ],
   "source": [
    "for i in range(len(nomemeu)+1):\n",
    "    print(nomemeu[:i])"
   ]
  },
  {
   "cell_type": "code",
   "execution_count": null,
   "id": "ed3761d3",
   "metadata": {},
   "outputs": [],
   "source": []
  }
 ],
 "metadata": {
  "kernelspec": {
   "display_name": "Python 3",
   "language": "python",
   "name": "python3"
  },
  "language_info": {
   "codemirror_mode": {
    "name": "ipython",
    "version": 3
   },
   "file_extension": ".py",
   "mimetype": "text/x-python",
   "name": "python",
   "nbconvert_exporter": "python",
   "pygments_lexer": "ipython3",
   "version": "3.8.8"
  }
 },
 "nbformat": 4,
 "nbformat_minor": 5
}
