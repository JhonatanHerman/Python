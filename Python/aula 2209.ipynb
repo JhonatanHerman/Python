{
 "cells": [
  {
   "cell_type": "code",
   "execution_count": 1,
   "metadata": {},
   "outputs": [
    {
     "name": "stdout",
     "output_type": "stream",
     "text": [
      "[1, 5, 4, 7, 8, 6, 9]\n"
     ]
    }
   ],
   "source": [
    "lista = [1,5,4,7,8,6]\n",
    "\n",
    "lista.append(9)\n",
    "print(lista)"
   ]
  },
  {
   "cell_type": "code",
   "execution_count": 2,
   "metadata": {},
   "outputs": [
    {
     "name": "stdout",
     "output_type": "stream",
     "text": [
      "[1, 5, 0, 7, 8, 6, 9]\n"
     ]
    }
   ],
   "source": [
    "lista[2] = 0\n",
    "print(lista)"
   ]
  },
  {
   "cell_type": "code",
   "execution_count": 8,
   "metadata": {},
   "outputs": [
    {
     "name": "stdout",
     "output_type": "stream",
     "text": [
      "[1, 5, 4, 4, 0, 7, 8, 3, 6]\n"
     ]
    }
   ],
   "source": [
    "lista.insert(2,4)\n",
    "\n",
    "print(lista)"
   ]
  },
  {
   "cell_type": "code",
   "execution_count": 4,
   "metadata": {},
   "outputs": [
    {
     "name": "stdout",
     "output_type": "stream",
     "text": [
      "[1, 5, 4, 0, 7, 8, 3, 6, 9]\n"
     ]
    }
   ],
   "source": [
    "lista.insert(6,3)\n",
    "print(lista)"
   ]
  },
  {
   "cell_type": "code",
   "execution_count": 5,
   "metadata": {},
   "outputs": [
    {
     "name": "stdout",
     "output_type": "stream",
     "text": [
      "9\n",
      "[1, 5, 4, 0, 7, 8, 3, 6]\n"
     ]
    }
   ],
   "source": [
    "valor = lista.pop()\n",
    "print(valor)\n",
    "print(lista)"
   ]
  },
  {
   "cell_type": "code",
   "execution_count": 9,
   "metadata": {},
   "outputs": [
    {
     "name": "stdout",
     "output_type": "stream",
     "text": [
      "4\n",
      "[1, 5, 4, 0, 7, 8, 3, 6]\n"
     ]
    }
   ],
   "source": [
    "valor = lista.pop(2)\n",
    "print(valor)\n",
    "print(lista)"
   ]
  },
  {
   "cell_type": "code",
   "execution_count": 10,
   "metadata": {},
   "outputs": [
    {
     "name": "stdout",
     "output_type": "stream",
     "text": [
      "[1, 5, 4, 0, 7, 8, 3, 6]\n",
      "4\n",
      "[1, 5, 0, 7, 8, 3, 6]\n"
     ]
    }
   ],
   "source": [
    "print(lista)\n",
    "valor = lista.pop(2)\n",
    "print(valor)\n",
    "print(lista)"
   ]
  },
  {
   "cell_type": "code",
   "execution_count": 12,
   "metadata": {},
   "outputs": [
    {
     "name": "stdout",
     "output_type": "stream",
     "text": [
      "15\n"
     ]
    }
   ],
   "source": [
    "import random as rd\n",
    "\n",
    "\n",
    "sorteadoint = rd.randint(10,30)\n",
    "print(sorteadoint)"
   ]
  },
  {
   "cell_type": "code",
   "execution_count": 11,
   "metadata": {},
   "outputs": [
    {
     "name": "stdout",
     "output_type": "stream",
     "text": [
      "Quantos números serão sorteados? 5\n",
      "A partir de que valor será sorteado? 10\n",
      "até que valores serão sorteados? 30\n",
      "[26, 16, 21, 23, 15]\n"
     ]
    }
   ],
   "source": [
    "import random as rd\n",
    "quantos = int(input(\"Quantos números serão sorteados? \"))\n",
    "inicio = int(input(\"A partir de que valor será sorteado? \"))\n",
    "fim = int(input(\"até que valores serão sorteados? \"))\n",
    "\n",
    "listahm = []\n",
    "\n",
    "sorteado = rd.randint(inicio,fim)\n",
    "\n",
    "for i in range(quantos):\n",
    "    sorteado = rd.randint(inicio,fim)\n",
    "    listahm.append(sorteado)\n",
    "    \n",
    "print(listahm)"
   ]
  },
  {
   "cell_type": "code",
   "execution_count": null,
   "metadata": {},
   "outputs": [],
   "source": []
  }
 ],
 "metadata": {
  "kernelspec": {
   "display_name": "Python 3",
   "language": "python",
   "name": "python3"
  },
  "language_info": {
   "codemirror_mode": {
    "name": "ipython",
    "version": 3
   },
   "file_extension": ".py",
   "mimetype": "text/x-python",
   "name": "python",
   "nbconvert_exporter": "python",
   "pygments_lexer": "ipython3",
   "version": "3.6.5"
  }
 },
 "nbformat": 4,
 "nbformat_minor": 2
}
