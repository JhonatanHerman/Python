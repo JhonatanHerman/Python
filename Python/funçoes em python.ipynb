{
 "cells": [
  {
   "cell_type": "code",
   "execution_count": 1,
   "id": "048b7ec1",
   "metadata": {},
   "outputs": [],
   "source": [
    "#funções em python\n",
    "\n",
    "def mensagem():\n",
    "    print(\"Seja bem vindo\")\n",
    "    \n",
    "    "
   ]
  },
  {
   "cell_type": "code",
   "execution_count": 2,
   "id": "68210402",
   "metadata": {},
   "outputs": [
    {
     "name": "stdout",
     "output_type": "stream",
     "text": [
      "Seja bem vindo\n"
     ]
    }
   ],
   "source": [
    "mensagem()"
   ]
  },
  {
   "cell_type": "code",
   "execution_count": 12,
   "id": "adc1af50",
   "metadata": {},
   "outputs": [],
   "source": [
    "def mensagemNome(nome, acesso):\n",
    "    print(\"Seja bem vindo, \" + nome + \"! - seu acesso é: \", acesso)\n",
    "    "
   ]
  },
  {
   "cell_type": "code",
   "execution_count": 15,
   "id": "e9af75b3",
   "metadata": {},
   "outputs": [
    {
     "name": "stdout",
     "output_type": "stream",
     "text": [
      "Seja bem vindo, Jhonatan! - seu acesso é:  vip\n"
     ]
    }
   ],
   "source": [
    "mensagemNome(\"Jhonatan\", \"vip\")"
   ]
  },
  {
   "cell_type": "code",
   "execution_count": 17,
   "id": "4188fdb2",
   "metadata": {},
   "outputs": [],
   "source": [
    "def mensagemNome(nome = \"Visitante\"):\n",
    "    print(\"Seja bem vindo, \" + nome + \"!\")"
   ]
  },
  {
   "cell_type": "code",
   "execution_count": 20,
   "id": "e1ae8cdb",
   "metadata": {},
   "outputs": [
    {
     "name": "stdout",
     "output_type": "stream",
     "text": [
      "Seja bem vindo, Visitante!\n",
      "Seja bem vindo, Fulano!\n"
     ]
    }
   ],
   "source": [
    "mensagemNome()\n",
    "mensagemNome(\"Fulano\")"
   ]
  },
  {
   "cell_type": "code",
   "execution_count": 21,
   "id": "9cf9de30",
   "metadata": {},
   "outputs": [],
   "source": [
    "def somar(v1,v2):\n",
    "    resultado = v1 + v2\n",
    "    return resultado"
   ]
  },
  {
   "cell_type": "code",
   "execution_count": 22,
   "id": "39474605",
   "metadata": {},
   "outputs": [
    {
     "name": "stdout",
     "output_type": "stream",
     "text": [
      "15\n"
     ]
    }
   ],
   "source": [
    "res = somar(8,7)\n",
    "print(res)"
   ]
  },
  {
   "cell_type": "code",
   "execution_count": 25,
   "id": "3370280a",
   "metadata": {},
   "outputs": [],
   "source": [
    "def sanduiche(*ingredientes):\n",
    "    print(ingredientes)"
   ]
  },
  {
   "cell_type": "code",
   "execution_count": 27,
   "id": "120b6618",
   "metadata": {},
   "outputs": [
    {
     "name": "stdout",
     "output_type": "stream",
     "text": [
      "('Pao', 'hamburguer', 'tomate', 'queijo', 'bacon', 'salame', 'alface', 'pimenta', 'barbecue', 'chipotle', 'ovo')\n"
     ]
    }
   ],
   "source": [
    "sanduiche(\"Pao\", \"hamburguer\", \"tomate\", \"queijo\", \"bacon\", \"salame\", \"alface\", \"pimenta\", \"barbecue\", \"chipotle\", \"ovo\")"
   ]
  },
  {
   "cell_type": "code",
   "execution_count": null,
   "id": "4fc67c79",
   "metadata": {},
   "outputs": [],
   "source": []
  }
 ],
 "metadata": {
  "kernelspec": {
   "display_name": "Python 3",
   "language": "python",
   "name": "python3"
  },
  "language_info": {
   "codemirror_mode": {
    "name": "ipython",
    "version": 3
   },
   "file_extension": ".py",
   "mimetype": "text/x-python",
   "name": "python",
   "nbconvert_exporter": "python",
   "pygments_lexer": "ipython3",
   "version": "3.8.8"
  }
 },
 "nbformat": 4,
 "nbformat_minor": 5
}
