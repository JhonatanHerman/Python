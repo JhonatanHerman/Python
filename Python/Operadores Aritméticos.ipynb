{
 "cells": [
  {
   "cell_type": "code",
   "execution_count": 1,
   "id": "cc22b7c0",
   "metadata": {},
   "outputs": [],
   "source": [
    "#OPERADORES ARITMÉTICOS\n",
    "# + soma\n",
    "# - subtração\n",
    "# * multiplicação\n",
    "# / divisão\n",
    "#** exponenciação"
   ]
  },
  {
   "cell_type": "code",
   "execution_count": 2,
   "id": "f28bd20f",
   "metadata": {},
   "outputs": [
    {
     "name": "stdout",
     "output_type": "stream",
     "text": [
      "7.5\n"
     ]
    }
   ],
   "source": [
    "n1 = 5 + 5 /2\n",
    "print(n1)"
   ]
  },
  {
   "cell_type": "code",
   "execution_count": 3,
   "id": "94254529",
   "metadata": {},
   "outputs": [
    {
     "name": "stdout",
     "output_type": "stream",
     "text": [
      "8\n"
     ]
    }
   ],
   "source": [
    "n2 = 2**3\n",
    "print(n2)"
   ]
  },
  {
   "cell_type": "code",
   "execution_count": 4,
   "id": "646dbe2a",
   "metadata": {},
   "outputs": [],
   "source": [
    "#OPERADORES LÓGICOS\n",
    "# not negação\n",
    "# and conjunção\n",
    "# or disjunção"
   ]
  },
  {
   "cell_type": "code",
   "execution_count": 5,
   "id": "d0faf484",
   "metadata": {},
   "outputs": [
    {
     "name": "stdout",
     "output_type": "stream",
     "text": [
      "False\n",
      "True\n",
      "False\n"
     ]
    }
   ],
   "source": [
    "aprovado1 = True\n",
    "aprovado2 = False\n",
    "\n",
    "print(aprovado1 and aprovado2)\n",
    "print(aprovado1 or aprovado2)\n",
    "print(aprovado2)"
   ]
  },
  {
   "cell_type": "code",
   "execution_count": 9,
   "id": "c042b1aa",
   "metadata": {},
   "outputs": [
    {
     "name": "stdout",
     "output_type": "stream",
     "text": [
      "Qual o seu nome? Jhonatan \n",
      "Qual o seu sobrenome? Eichemberger\n",
      "Bem vindo Jhonatan  Eichemberger\n"
     ]
    }
   ],
   "source": [
    "nome = input(\"Qual o seu nome? \")\n",
    "sobrenome = input(\"Qual o seu sobrenome? \")\n",
    "print(\"Bem vindo \" + nome + \" \" + sobrenome)"
   ]
  },
  {
   "cell_type": "markdown",
   "id": "3da9c244",
   "metadata": {},
   "source": [
    ".\n"
   ]
  },
  {
   "cell_type": "code",
   "execution_count": 10,
   "id": "cdbc318e",
   "metadata": {},
   "outputs": [
    {
     "name": "stdout",
     "output_type": "stream",
     "text": [
      "Digite o primeiro valor: 5\n",
      "Digite o segundo valor: 6\n",
      "56\n"
     ]
    }
   ],
   "source": [
    "n1 = input(\"Digite o primeiro valor: \")\n",
    "n2 = input(\"Digite o segundo valor: \")\n",
    "\n",
    "resultado = n1 + n2\n",
    "print(resultado)"
   ]
  },
  {
   "cell_type": "code",
   "execution_count": 11,
   "id": "4bb25321",
   "metadata": {},
   "outputs": [
    {
     "name": "stdout",
     "output_type": "stream",
     "text": [
      "Digite o primeiro valor: 5\n",
      "Digite o segundo valor: 6\n",
      "11\n"
     ]
    }
   ],
   "source": [
    "n1 = int(input(\"Digite o primeiro valor: \"))\n",
    "n2 = int(input(\"Digite o segundo valor: \"))\n",
    "\n",
    "resultado = n1 + n2\n",
    "print(resultado)"
   ]
  },
  {
   "cell_type": "code",
   "execution_count": null,
   "id": "2a911617",
   "metadata": {},
   "outputs": [],
   "source": []
  }
 ],
 "metadata": {
  "kernelspec": {
   "display_name": "Python 3 (ipykernel)",
   "language": "python",
   "name": "python3"
  },
  "language_info": {
   "codemirror_mode": {
    "name": "ipython",
    "version": 3
   },
   "file_extension": ".py",
   "mimetype": "text/x-python",
   "name": "python",
   "nbconvert_exporter": "python",
   "pygments_lexer": "ipython3",
   "version": "3.8.10"
  }
 },
 "nbformat": 4,
 "nbformat_minor": 5
}
