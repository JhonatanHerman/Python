{
 "cells": [
  {
   "cell_type": "code",
   "execution_count": 4,
   "id": "e7f518f5",
   "metadata": {},
   "outputs": [
    {
     "name": "stdout",
     "output_type": "stream",
     "text": [
      "3\n",
      "6\n",
      "9\n",
      "12\n",
      "15\n",
      "18\n"
     ]
    }
   ],
   "source": [
    "cont = 1\n",
    "\n",
    "while cont <= 20:\n",
    "    if cont%3 == 0:\n",
    "        print(cont)\n",
    "    cont += 1"
   ]
  },
  {
   "cell_type": "code",
   "execution_count": 6,
   "id": "4e33e7e1",
   "metadata": {},
   "outputs": [
    {
     "name": "stdout",
     "output_type": "stream",
     "text": [
      "Digite uma palavra - 'sair' para finalizar o programaolaa\n",
      "olaa\n",
      "Digite uma palavra - 'sair' para finalizar o programatudo bem\n",
      "tudo bem\n",
      "Digite uma palavra - 'sair' para finalizar o programasair\n",
      "sair\n"
     ]
    }
   ],
   "source": [
    "msg = ''\n",
    "\n",
    "while msg != 'sair':\n",
    "    msg = input(\"Digite uma palavra - 'sair' para finalizar o programa\")\n",
    "    print(msg)"
   ]
  },
  {
   "cell_type": "code",
   "execution_count": 7,
   "id": "4eba6723",
   "metadata": {},
   "outputs": [
    {
     "name": "stdout",
     "output_type": "stream",
     "text": [
      "Digite uma nota: 5\n",
      "Digite uma nota: 7\n",
      "Digite uma nota: 3\n",
      "Digite uma nota: 0\n",
      "soma: 15\n",
      "media: 5.0\n"
     ]
    }
   ],
   "source": [
    "nota = -1\n",
    "soma = 0\n",
    "cont = 0\n",
    "while nota != 0:\n",
    "    nota = int(input(\"Digite uma nota: \"))\n",
    "    soma += nota\n",
    "    cont+=1\n",
    "print(\"soma: \" +str(soma))\n",
    "print(\"media: \" +str(soma/(cont-1)))"
   ]
  },
  {
   "cell_type": "code",
   "execution_count": 8,
   "id": "d370b859",
   "metadata": {},
   "outputs": [
    {
     "name": "stdout",
     "output_type": "stream",
     "text": [
      "1 X 1 = 1\n",
      "1 X 2 = 2\n",
      "1 X 3 = 3\n",
      "1 X 4 = 4\n",
      "1 X 5 = 5\n",
      "1 X 6 = 6\n",
      "1 X 7 = 7\n",
      "1 X 8 = 8\n",
      "1 X 9 = 9\n",
      "1 X 10 = 10\n",
      "\n",
      "\n",
      "2 X 1 = 2\n",
      "2 X 2 = 4\n",
      "2 X 3 = 6\n",
      "2 X 4 = 8\n",
      "2 X 5 = 10\n",
      "2 X 6 = 12\n",
      "2 X 7 = 14\n",
      "2 X 8 = 16\n",
      "2 X 9 = 18\n",
      "2 X 10 = 20\n",
      "\n",
      "\n",
      "3 X 1 = 3\n",
      "3 X 2 = 6\n",
      "3 X 3 = 9\n",
      "3 X 4 = 12\n",
      "3 X 5 = 15\n",
      "3 X 6 = 18\n",
      "3 X 7 = 21\n",
      "3 X 8 = 24\n",
      "3 X 9 = 27\n",
      "3 X 10 = 30\n",
      "\n",
      "\n",
      "4 X 1 = 4\n",
      "4 X 2 = 8\n",
      "4 X 3 = 12\n",
      "4 X 4 = 16\n",
      "4 X 5 = 20\n",
      "4 X 6 = 24\n",
      "4 X 7 = 28\n",
      "4 X 8 = 32\n",
      "4 X 9 = 36\n",
      "4 X 10 = 40\n",
      "\n",
      "\n",
      "5 X 1 = 5\n",
      "5 X 2 = 10\n",
      "5 X 3 = 15\n",
      "5 X 4 = 20\n",
      "5 X 5 = 25\n",
      "5 X 6 = 30\n",
      "5 X 7 = 35\n",
      "5 X 8 = 40\n",
      "5 X 9 = 45\n",
      "5 X 10 = 50\n",
      "\n",
      "\n",
      "6 X 1 = 6\n",
      "6 X 2 = 12\n",
      "6 X 3 = 18\n",
      "6 X 4 = 24\n",
      "6 X 5 = 30\n",
      "6 X 6 = 36\n",
      "6 X 7 = 42\n",
      "6 X 8 = 48\n",
      "6 X 9 = 54\n",
      "6 X 10 = 60\n",
      "\n",
      "\n",
      "7 X 1 = 7\n",
      "7 X 2 = 14\n",
      "7 X 3 = 21\n",
      "7 X 4 = 28\n",
      "7 X 5 = 35\n",
      "7 X 6 = 42\n",
      "7 X 7 = 49\n",
      "7 X 8 = 56\n",
      "7 X 9 = 63\n",
      "7 X 10 = 70\n",
      "\n",
      "\n",
      "8 X 1 = 8\n",
      "8 X 2 = 16\n",
      "8 X 3 = 24\n",
      "8 X 4 = 32\n",
      "8 X 5 = 40\n",
      "8 X 6 = 48\n",
      "8 X 7 = 56\n",
      "8 X 8 = 64\n",
      "8 X 9 = 72\n",
      "8 X 10 = 80\n",
      "\n",
      "\n",
      "9 X 1 = 9\n",
      "9 X 2 = 18\n",
      "9 X 3 = 27\n",
      "9 X 4 = 36\n",
      "9 X 5 = 45\n",
      "9 X 6 = 54\n",
      "9 X 7 = 63\n",
      "9 X 8 = 72\n",
      "9 X 9 = 81\n",
      "9 X 10 = 90\n",
      "\n",
      "\n",
      "10 X 1 = 10\n",
      "10 X 2 = 20\n",
      "10 X 3 = 30\n",
      "10 X 4 = 40\n",
      "10 X 5 = 50\n",
      "10 X 6 = 60\n",
      "10 X 7 = 70\n",
      "10 X 8 = 80\n",
      "10 X 9 = 90\n",
      "10 X 10 = 100\n",
      "\n",
      "\n"
     ]
    }
   ],
   "source": [
    "n1 = 0\n",
    "while n1<10:\n",
    "    n1+=1\n",
    "    n2=0\n",
    "    while n2<10:\n",
    "        n2+=1\n",
    "        print(\"%s X %s = %s\"%(n1,n2,(n1*n2)))\n",
    "    print(\"\\n\")"
   ]
  },
  {
   "cell_type": "code",
   "execution_count": 9,
   "id": "a648d477",
   "metadata": {},
   "outputs": [],
   "source": [
    "## Valores Aleatórios (Randômicos)\n",
    "\n",
    "import random as rd"
   ]
  },
  {
   "cell_type": "code",
   "execution_count": 10,
   "id": "52d924b1",
   "metadata": {},
   "outputs": [
    {
     "name": "stdout",
     "output_type": "stream",
     "text": [
      "valor1: 2\n",
      "valor2: 0.7706202463725905\n",
      "valor1: 6\n",
      "valor2: 0.983486359227847\n",
      "valor1: 2\n",
      "valor2: 0.4408279482399682\n",
      "valor1: 6\n",
      "valor2: 0.7441531439213832\n",
      "valor1: 10\n",
      "valor2: 0.595483541081685\n",
      "valor1: 9\n",
      "valor2: 0.09067360338361286\n",
      "valor1: 6\n",
      "valor2: 0.5317875640034968\n",
      "valor1: 6\n",
      "valor2: 0.14999497890351743\n",
      "valor1: 9\n",
      "valor2: 0.07390350384342737\n",
      "valor1: 9\n",
      "valor2: 0.5668299373253148\n"
     ]
    }
   ],
   "source": [
    "cont=1\n",
    "while cont<=10:\n",
    "    valor1 = rd.randint(1,10)\n",
    "    print(\"valor1: \"+str(valor1))\n",
    "    valor2=rd.random()\n",
    "    print(\"valor2: \"+str(valor2))\n",
    "    cont+=1"
   ]
  },
  {
   "cell_type": "code",
   "execution_count": 38,
   "id": "b77b3aee",
   "metadata": {},
   "outputs": [
    {
     "name": "stdout",
     "output_type": "stream",
     "text": [
      "Digite o numero que vc quer: 6\n",
      "10\n",
      "3\n",
      "6\n",
      "A soma dos numeros é:19\n"
     ]
    }
   ],
   "source": [
    "##Faça um programa que gere números inteiros aleatórios ntre 1 e 10 e \n",
    "##calcule a soma desses números, até que seja gerado um número num que \n",
    "##foi informado pelo usuário anteriormente\n",
    "import random as rd\n",
    "\n",
    "numP = int(input(\"Digite o numero que vc quer: \"))\n",
    "\n",
    "\n",
    "i = 1\n",
    "acumulo = 0\n",
    "hmm = 0\n",
    "while i <=10:\n",
    "    acumulo = rd.randint(1,10)\n",
    "    hmm +=acumulo\n",
    "    print(acumulo)\n",
    "    if acumulo == numP:\n",
    "        break\n",
    "    i+=1\n",
    "print(\"A soma dos numeros é:\" + str(hmm))"
   ]
  },
  {
   "cell_type": "code",
   "execution_count": 39,
   "id": "9eb1c3fd",
   "metadata": {},
   "outputs": [
    {
     "name": "stdout",
     "output_type": "stream",
     "text": [
      "0\n",
      "1\n",
      "2\n",
      "3\n",
      "4\n"
     ]
    }
   ],
   "source": [
    " #Faixa de valores\n",
    "\n",
    "for x in(0,1,2,3,4): \n",
    "    print(x)"
   ]
  },
  {
   "cell_type": "code",
   "execution_count": 40,
   "id": "56e15c2e",
   "metadata": {},
   "outputs": [
    {
     "name": "stdout",
     "output_type": "stream",
     "text": [
      "0\n",
      "1\n",
      "2\n",
      "3\n",
      "4\n"
     ]
    }
   ],
   "source": [
    "for i in range(5):\n",
    "    print(i)"
   ]
  },
  {
   "cell_type": "code",
   "execution_count": 41,
   "id": "a4cd3f4a",
   "metadata": {},
   "outputs": [
    {
     "name": "stdout",
     "output_type": "stream",
     "text": [
      "2\n",
      "3\n",
      "4\n"
     ]
    }
   ],
   "source": [
    "for i in range(2,5):\n",
    "    print(i)"
   ]
  },
  {
   "cell_type": "code",
   "execution_count": 42,
   "id": "409a43d0",
   "metadata": {},
   "outputs": [
    {
     "name": "stdout",
     "output_type": "stream",
     "text": [
      "2\n",
      "5\n",
      "8\n"
     ]
    }
   ],
   "source": [
    "for i in range(2,10,3):\n",
    "    print(i)"
   ]
  },
  {
   "cell_type": "code",
   "execution_count": 43,
   "id": "ff6cba41",
   "metadata": {},
   "outputs": [
    {
     "name": "stdout",
     "output_type": "stream",
     "text": [
      "Digite a quantidade de números a serem gerados: 5\n",
      "3\n",
      "7\n",
      "8\n",
      "10\n",
      "9\n"
     ]
    }
   ],
   "source": [
    "'''Faça um programa que soma N números geradosaleatoriamente no \n",
    "intervalo de 1 a 10, onde N éinformado pelo usuário** \n",
    "Utilizando o for **'''\n",
    "\n",
    "N=int(input('Digite a quantidade de números a serem gerados: '))\n",
    "for n in range(N):\n",
    "    print(rd.randint(1,10))"
   ]
  },
  {
   "cell_type": "code",
   "execution_count": 44,
   "id": "a0ef4005",
   "metadata": {},
   "outputs": [
    {
     "name": "stdout",
     "output_type": "stream",
     "text": [
      "Digite o valor inicial: 4\n",
      "Digite o valor final: 10\n",
      "Soma  28\n"
     ]
    }
   ],
   "source": [
    "In [27]:'''Programa que imprime a soma de todos os númerospares \n",
    "entre dois números quaisquer, incluindo-os '''\n",
    "    \n",
    "n1=int(input('Digite o valor inicial: '))\n",
    "n2=int(input('Digite o valor final: '))\n",
    "soma=0\n",
    "\n",
    "for i in range(n1,n2+1):\n",
    "    if i%2==0:\n",
    "        soma+=i\n",
    "print('Soma ',soma)"
   ]
  },
  {
   "cell_type": "code",
   "execution_count": null,
   "id": "7326cdda",
   "metadata": {},
   "outputs": [],
   "source": []
  }
 ],
 "metadata": {
  "kernelspec": {
   "display_name": "Python 3 (ipykernel)",
   "language": "python",
   "name": "python3"
  },
  "language_info": {
   "codemirror_mode": {
    "name": "ipython",
    "version": 3
   },
   "file_extension": ".py",
   "mimetype": "text/x-python",
   "name": "python",
   "nbconvert_exporter": "python",
   "pygments_lexer": "ipython3",
   "version": "3.8.10"
  }
 },
 "nbformat": 4,
 "nbformat_minor": 5
}
