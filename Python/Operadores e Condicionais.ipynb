{
 "cells": [
  {
   "cell_type": "code",
   "execution_count": 2,
   "id": "67be3c17",
   "metadata": {},
   "outputs": [
    {
     "name": "stdout",
     "output_type": "stream",
     "text": [
      "Digite a nota 1: 6\n",
      "Digite a nota 2: 9\n",
      "Digite a nota 3: 5\n",
      "6.67\n",
      "APROVADO\n"
     ]
    }
   ],
   "source": [
    "nota1 = float(input(\"Digite a nota 1: \"))\n",
    "nota2 = float(input(\"Digite a nota 2: \"))\n",
    "nota3 = float(input(\"Digite a nota 3: \"))\n",
    "\n",
    "media = (nota1 + nota2 + nota3)/3\n",
    "print(\"%.2f\"%media)\n",
    "\n",
    "if media >= 6.0:\n",
    "    print('APROVADO')\n",
    "else: \n",
    "    print('REPROVADO')"
   ]
  },
  {
   "cell_type": "code",
   "execution_count": 6,
   "id": "5b93c2dd",
   "metadata": {},
   "outputs": [
    {
     "name": "stdout",
     "output_type": "stream",
     "text": [
      "um\n"
     ]
    }
   ],
   "source": [
    "opc = 1\n",
    "\n",
    "if opc == 1:\n",
    "    print('um')\n",
    "elif opc == 2:\n",
    "    print('dois')\n",
    "\n",
    "    "
   ]
  },
  {
   "cell_type": "code",
   "execution_count": 8,
   "id": "9e0c21d7",
   "metadata": {},
   "outputs": [
    {
     "name": "stdout",
     "output_type": "stream",
     "text": [
      "APROVADO\n"
     ]
    }
   ],
   "source": [
    "#estruturas condicionais aninhadas\n",
    "media = 6.0\n",
    "\n",
    "if media >= 4.0:\n",
    "    if media >= 6:\n",
    "        print(\"APROVADO\")\n",
    "    else:\n",
    "        print(\"RECUPERAÇÃO\")\n",
    "else:\n",
    "    print(\"REPROVADO\")"
   ]
  },
  {
   "cell_type": "code",
   "execution_count": null,
   "id": "b3ef5cf1",
   "metadata": {},
   "outputs": [],
   "source": []
  }
 ],
 "metadata": {
  "kernelspec": {
   "display_name": "Python 3 (ipykernel)",
   "language": "python",
   "name": "python3"
  },
  "language_info": {
   "codemirror_mode": {
    "name": "ipython",
    "version": 3
   },
   "file_extension": ".py",
   "mimetype": "text/x-python",
   "name": "python",
   "nbconvert_exporter": "python",
   "pygments_lexer": "ipython3",
   "version": "3.8.10"
  }
 },
 "nbformat": 4,
 "nbformat_minor": 5
}
