{
 "cells": [
  {
   "cell_type": "code",
   "execution_count": 17,
   "id": "ff1baaa4",
   "metadata": {},
   "outputs": [],
   "source": [
    "class Carro():\n",
    "    \n",
    "    def __init__(self, marca, modelo, ano):\n",
    "        self.marca = marca\n",
    "        self.modelo = modelo\n",
    "        self.ano = ano\n",
    "        self.km = 0\n",
    "    \n",
    "    def getDescricao(self):\n",
    "        desc = self.marca + ' ' + self.modelo + ' ' + str(self.ano)\n",
    "        return desc\n",
    "    \n",
    "    def getKm(self):\n",
    "        print(\"O carro possui \" + str(self.km) + \" km rodados\")\n",
    "    \n",
    "    def setKm(self, km):\n",
    "        self.km = km\n",
    "    \n",
    "    def addKm(self, valor):\n",
    "        self.km += valor\n",
    "    "
   ]
  },
  {
   "cell_type": "code",
   "execution_count": 19,
   "id": "cc719f60",
   "metadata": {},
   "outputs": [],
   "source": [
    "meuCarro = Carro('BMW', 'X1', 2020)"
   ]
  },
  {
   "cell_type": "code",
   "execution_count": 20,
   "id": "748231cb",
   "metadata": {},
   "outputs": [],
   "source": [
    "descricao = meuCarro.getDescricao()"
   ]
  },
  {
   "cell_type": "code",
   "execution_count": 21,
   "id": "8477b4ba",
   "metadata": {},
   "outputs": [
    {
     "name": "stdout",
     "output_type": "stream",
     "text": [
      "BMW X1 2020\n"
     ]
    }
   ],
   "source": [
    "print(descricao)"
   ]
  },
  {
   "cell_type": "code",
   "execution_count": 22,
   "id": "132fc2c5",
   "metadata": {},
   "outputs": [
    {
     "name": "stdout",
     "output_type": "stream",
     "text": [
      "O carro possui 0 km rodados\n"
     ]
    }
   ],
   "source": [
    "meuCarro.getKm()"
   ]
  },
  {
   "cell_type": "code",
   "execution_count": 23,
   "id": "aa3f77e0",
   "metadata": {},
   "outputs": [],
   "source": [
    "meuCarro.setKm(3)"
   ]
  },
  {
   "cell_type": "code",
   "execution_count": 24,
   "id": "2c632edc",
   "metadata": {},
   "outputs": [
    {
     "name": "stdout",
     "output_type": "stream",
     "text": [
      "O carro possui 3 km rodados\n"
     ]
    }
   ],
   "source": [
    "meuCarro.getKm()"
   ]
  },
  {
   "cell_type": "code",
   "execution_count": 25,
   "id": "f93110df",
   "metadata": {},
   "outputs": [],
   "source": [
    "meuCarro.addKm(50)"
   ]
  },
  {
   "cell_type": "code",
   "execution_count": 26,
   "id": "e7d51578",
   "metadata": {},
   "outputs": [
    {
     "name": "stdout",
     "output_type": "stream",
     "text": [
      "O carro possui 53 km rodados\n"
     ]
    }
   ],
   "source": [
    "meuCarro.getKm()"
   ]
  },
  {
   "cell_type": "code",
   "execution_count": 27,
   "id": "3ea3c80b",
   "metadata": {},
   "outputs": [],
   "source": [
    "meuCarro.addKm(71)"
   ]
  },
  {
   "cell_type": "code",
   "execution_count": 28,
   "id": "3003fd23",
   "metadata": {},
   "outputs": [
    {
     "name": "stdout",
     "output_type": "stream",
     "text": [
      "O carro possui 124 km rodados\n"
     ]
    }
   ],
   "source": [
    "meuCarro.getKm()"
   ]
  },
  {
   "cell_type": "code",
   "execution_count": null,
   "id": "2570e4c7",
   "metadata": {},
   "outputs": [],
   "source": []
  },
  {
   "cell_type": "code",
   "execution_count": null,
   "id": "ceb8682f",
   "metadata": {},
   "outputs": [],
   "source": []
  },
  {
   "cell_type": "code",
   "execution_count": 69,
   "id": "57add6e2",
   "metadata": {},
   "outputs": [],
   "source": [
    "# Classe cachorro\n",
    "# Atributos: nome e idade\n",
    "# Métodos: sentar e latir\n",
    "\n",
    "class Cachorro():\n",
    "    \n",
    "    def __init__(self, nome, raca, idade, sexo):\n",
    "        self.nome = nome\n",
    "        self.idade = idade\n",
    "        self.raca = raca\n",
    "        self.sex = sexo\n",
    "        self.acao = 0\n",
    "    \n",
    "    def getFicha(self):\n",
    "        ficha = ('Sexo do pet: ' + self.sex + '\\nNome: ' + self.nome + '\\nRaça: ' + self.raca + '\\nIdade: ' + str(self.idade))\n",
    "        return ficha\n",
    "    \n",
    "    def getAcao(self):\n",
    "        acao = input(\"Escolha: latir ou sentar\")\n",
    "        if(acao == 'sentar'):\n",
    "            print(self.nome + ' ' + 'sentou e sorriu para voce')\n",
    "        else:\n",
    "            print(self.nome + ' ' + 'latiu com muita força e poder')\n",
    "    "
   ]
  },
  {
   "cell_type": "code",
   "execution_count": 70,
   "id": "154e493c",
   "metadata": {},
   "outputs": [],
   "source": [
    "meuCao = Cachorro('pitucha', 'viralata', 8, 'femea') "
   ]
  },
  {
   "cell_type": "code",
   "execution_count": 71,
   "id": "176ba415",
   "metadata": {},
   "outputs": [],
   "source": [
    "DescCao = meuCao.getFicha()"
   ]
  },
  {
   "cell_type": "code",
   "execution_count": 72,
   "id": "290c3c76",
   "metadata": {},
   "outputs": [
    {
     "name": "stdout",
     "output_type": "stream",
     "text": [
      "Sexo do pet: femea\n",
      "Nome: pitucha\n",
      "Raça: viralata\n",
      "Idade: 8\n"
     ]
    }
   ],
   "source": [
    "print(DescCao)"
   ]
  },
  {
   "cell_type": "code",
   "execution_count": 73,
   "id": "8c811258",
   "metadata": {},
   "outputs": [
    {
     "name": "stdout",
     "output_type": "stream",
     "text": [
      "Escolha: latir ou sentarsentar\n",
      "pitucha sentou e sorriu para voce\n"
     ]
    }
   ],
   "source": [
    "meuCao.getAcao()"
   ]
  },
  {
   "cell_type": "code",
   "execution_count": null,
   "id": "7c55afa4",
   "metadata": {},
   "outputs": [],
   "source": []
  }
 ],
 "metadata": {
  "kernelspec": {
   "display_name": "Python 3 (ipykernel)",
   "language": "python",
   "name": "python3"
  },
  "language_info": {
   "codemirror_mode": {
    "name": "ipython",
    "version": 3
   },
   "file_extension": ".py",
   "mimetype": "text/x-python",
   "name": "python",
   "nbconvert_exporter": "python",
   "pygments_lexer": "ipython3",
   "version": "3.9.6"
  }
 },
 "nbformat": 4,
 "nbformat_minor": 5
}
