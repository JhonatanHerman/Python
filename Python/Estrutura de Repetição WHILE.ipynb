{
 "cells": [
  {
   "cell_type": "code",
   "execution_count": 1,
   "id": "ccf9b87d",
   "metadata": {},
   "outputs": [
    {
     "name": "stdout",
     "output_type": "stream",
     "text": [
      "1\n",
      "2\n",
      "3\n",
      "4\n",
      "5\n",
      "6\n",
      "7\n",
      "8\n",
      "9\n",
      "10\n"
     ]
    }
   ],
   "source": [
    "cont = 1\n",
    "while cont <= 10:\n",
    "    print(cont)\n",
    "    cont+=1"
   ]
  },
  {
   "cell_type": "code",
   "execution_count": 3,
   "id": "989bb395",
   "metadata": {},
   "outputs": [
    {
     "name": "stdout",
     "output_type": "stream",
     "text": [
      "2\n",
      "4\n",
      "6\n",
      "8\n",
      "10\n",
      "12\n",
      "14\n",
      "16\n",
      "18\n",
      "20\n"
     ]
    }
   ],
   "source": [
    "cont = 1\n",
    "while cont <= 20:\n",
    "    if cont % 2 == 0:\n",
    "        print(cont)\n",
    "    cont+=1"
   ]
  },
  {
   "cell_type": "code",
   "execution_count": 4,
   "id": "77a0493e",
   "metadata": {},
   "outputs": [
    {
     "name": "stdout",
     "output_type": "stream",
     "text": [
      "Escreva algo para ser apresentado:\n",
      " Digite 'sair' para dinalizara\n",
      "a\n",
      "Escreva algo para ser apresentado:\n",
      " Digite 'sair' para dinalizarsla\n",
      "sla\n",
      "Escreva algo para ser apresentado:\n",
      " Digite 'sair' para dinalizarsair\n",
      "sair\n"
     ]
    }
   ],
   "source": [
    "# Decidindo quando sair\n",
    "info = 'Escreva algo para ser apresentado:'\n",
    "info +=\"\\n Digite 'sair' para dinalizar\"\n",
    "\n",
    "mensagem = \"\"\n",
    "while mensagem != 'sair':\n",
    "    mensagem = input(info)\n",
    "    print(mensagem)"
   ]
  },
  {
   "cell_type": "code",
   "execution_count": 6,
   "id": "7dbd685e",
   "metadata": {},
   "outputs": [
    {
     "name": "stdout",
     "output_type": "stream",
     "text": [
      "Quantos valores serão digitados? 5\n",
      "Digite o 1º valor: 1\n",
      "Digite o 2º valor: 2\n",
      "Digite o 3º valor: 5\n",
      "Digite o 4º valor: 2\n",
      "Digite o 5º valor: 7\n",
      "A soma dos valores digitados é: 17\n"
     ]
    }
   ],
   "source": [
    "# Acumulando valor em uma variável\n",
    "qnt = int(input('Quantos valores serão digitados? '))\n",
    "cont = 1\n",
    "soma = 0\n",
    "\n",
    "while cont <= qnt:\n",
    "    soma += int(input('Digite o '+str(cont)+'º valor: '))\n",
    "    cont+=1\n",
    "print('A soma dos valores digitados é: '+str(soma))"
   ]
  },
  {
   "cell_type": "code",
   "execution_count": 2,
   "id": "456ff9ee",
   "metadata": {},
   "outputs": [
    {
     "name": "stdout",
     "output_type": "stream",
     "text": [
      "quantidade de notas do aluno: 4\n",
      "Digite a 1º nota: 7\n",
      "Digite a 2º nota: 6\n",
      "Digite a 3º nota: 9\n",
      "Digite a 4º nota: 5\n",
      "A media do aluno é: 6.75\n",
      "APROVADO\n"
     ]
    }
   ],
   "source": [
    "#Faça um programa que peça a quantidade de notas de um aluno, \n",
    "#em seguida receba cada nota e apresente ao final a média \n",
    "#do aluno informando informando se ele foi aprovado ou reprovado (media de aprovação =6)\n",
    "\n",
    "qntNotas = int(input(\"quantidade de notas do aluno: \"))\n",
    "somanotas = 0\n",
    "cont = 1\n",
    "\n",
    "while cont <= qntNotas:\n",
    "    somanotas += int(input('Digite a '+str(cont)+'º nota: '))\n",
    "    cont+=1\n",
    "    \n",
    "media = somanotas / qntNotas\n",
    "print(\"A media do aluno é: \"+str(media))\n",
    "\n",
    "if media >=6:\n",
    "    print(\"APROVADO\")\n",
    "else:\n",
    "    print(\"REPROVADO\")"
   ]
  },
  {
   "cell_type": "code",
   "execution_count": 5,
   "id": "6b24b576",
   "metadata": {},
   "outputs": [
    {
     "name": "stdout",
     "output_type": "stream",
     "text": [
      "Digite uma nota: 5\n",
      "Digite uma nota: 4\n",
      "Digite uma nota: 2\n",
      "Digite uma nota: 9\n",
      "Digite uma nota: 11\n",
      "nota Invalida! programa finalizado!\n"
     ]
    }
   ],
   "source": [
    "#Faça um programa que peça uma nota, entre zero e dez. Mostre uma mensagem caso o valorseja inválido e continue pedindo \n",
    "#até que o usuário informe um valor válido.\n",
    "\n",
    "nota = int(input(\"Digite uma nota: \"))\n",
    "\n",
    "while nota >=0 and nota <= 10:\n",
    "    nota=int(input(\"Digite uma nota: \"))\n",
    "    \n",
    "print(\"nota Invalida! programa finalizado!\")"
   ]
  },
  {
   "cell_type": "code",
   "execution_count": 9,
   "id": "a4d0ff08",
   "metadata": {},
   "outputs": [
    {
     "name": "stdout",
     "output_type": "stream",
     "text": [
      "nome do usuário: admin\n",
      "Senha: admin\n",
      "SENHA NÃO PODE SER IGUAL AO NOME DE USUÁRIO\n",
      "Senha: admin\n",
      "SENHA NÃO PODE SER IGUAL AO NOME DE USUÁRIO\n",
      "Senha: sla a senha\n"
     ]
    }
   ],
   "source": [
    "# Faça um programa que leia um nome de usuário e a sua senha e não aceite a senha igualao nome do usuário, mostrando uma \n",
    "#mensagem de erro e voltando a pedir as informações.\n",
    "\n",
    "usr = input(\"nome do usuário: \")\n",
    "senha = input(\"Senha: \")\n",
    "\n",
    "while usr == senha:\n",
    "    print(\"SENHA NÃO PODE SER IGUAL AO NOME DE USUÁRIO\")\n",
    "    senha = input(\"Senha: \")"
   ]
  },
  {
   "cell_type": "code",
   "execution_count": 54,
   "id": "38921a0b",
   "metadata": {},
   "outputs": [
    {
     "name": "stdout",
     "output_type": "stream",
     "text": [
      "Digite o numero base: 2\n",
      "Digite o numero do expoente: 8\n",
      "numero 7 elevado a 8 é: 256\n"
     ]
    }
   ],
   "source": [
    "# Faça um programa que peça dois números, base e expoente, calcule e mostre o primeironúmero elevado ao segundo número. \n",
    "#Não utilize a função de potência da linguagem.\n",
    "\n",
    "\n",
    "base = int(input(\"Digite o numero base: \"))\n",
    "exp = int(input(\"Digite o numero do expoente: \"))\n",
    "\n",
    "cont = 1\n",
    "potencia = 1\n",
    "\n",
    "while cont <= exp:\n",
    "    potencia *= base\n",
    "    cont += 1\n",
    "\n",
    "\n",
    "print(\"numero \" +str(num1) + \" elevado a \" + str(exp) + \" é: \" +str(potencia))"
   ]
  },
  {
   "cell_type": "markdown",
   "id": "d3a99717",
   "metadata": {},
   "source": [
    ".\n"
   ]
  },
  {
   "cell_type": "code",
   "execution_count": 1,
   "id": "0610bce6",
   "metadata": {},
   "outputs": [
    {
     "name": "stdout",
     "output_type": "stream",
     "text": [
      "Digite o numero a ser fatorado: 5\n",
      "Resultado do fat: 120\n"
     ]
    }
   ],
   "source": [
    "#Faça um programa que calcule o fatorial de um número \n",
    "#inteiro fornecido pelo usuário. Ex.: 5!=5.4.3.2.1=\n",
    "\n",
    "n = int(input(\"Digite o numero a ser fatorado: \"))\n",
    "fat = 1\n",
    "i = 2\n",
    "\n",
    "while i <= n:\n",
    "    fat = fat * i\n",
    "    i = i+1\n",
    "    \n",
    "print(\"Resultado do fat: \"+str(fat))"
   ]
  },
  {
   "cell_type": "code",
   "execution_count": 28,
   "id": "1b696bde",
   "metadata": {},
   "outputs": [
    {
     "name": "stdout",
     "output_type": "stream",
     "text": [
      "Quantos numeros vao ser digitados? 5\n",
      "Digite o 1º numero: 1\n",
      "Digite o 2º numero: 2\n",
      "Digite o 3º numero: 3\n",
      "Digite o 4º numero: 4\n",
      "Digite o 5º numero: 5\n",
      "A soma dos valores é: 15\n",
      "O numero menor é: 1\n",
      "O numero maior é: 5\n"
     ]
    }
   ],
   "source": [
    "#Faça um programa que, dado um conjunto de N números, determine o menor valor, \n",
    "#o maiorvalor e a soma dos valores.\n",
    "\n",
    "qtd = int(input(\"Quantos numeros vao ser digitados? \"))\n",
    "cont = 0\n",
    "menor = 0\n",
    "maior = 0\n",
    "soma = 0\n",
    "\n",
    "while (cont+1) <= qtd:\n",
    "    number = int(input('Digite o '+str(cont+1)+'º numero: '))\n",
    "    soma += number\n",
    "    cont += 1\n",
    "    \n",
    "    if cont == 1:\n",
    "        maior = menor = number\n",
    "    else:\n",
    "        if number > maior:\n",
    "            maior = number\n",
    "        if number < menor:\n",
    "            menor = number \n",
    "            \n",
    "            \n",
    "print(\"A soma dos valores é: \" + str(soma))\n",
    "print(\"O numero menor é: \" + str(menor))\n",
    "print(\"O numero maior é: \" + str(maior))\n",
    "    \n",
    " "
   ]
  },
  {
   "cell_type": "markdown",
   "id": "4bcd8d0b",
   "metadata": {},
   "source": [
    ".\n",
    "\n"
   ]
  },
  {
   "cell_type": "code",
   "execution_count": 19,
   "id": "b484465d",
   "metadata": {},
   "outputs": [
    {
     "name": "stdout",
     "output_type": "stream",
     "text": [
      ".\n"
     ]
    }
   ],
   "source": []
  },
  {
   "cell_type": "code",
   "execution_count": null,
   "id": "36158387",
   "metadata": {},
   "outputs": [],
   "source": []
  }
 ],
 "metadata": {
  "kernelspec": {
   "display_name": "Python 3 (ipykernel)",
   "language": "python",
   "name": "python3"
  },
  "language_info": {
   "codemirror_mode": {
    "name": "ipython",
    "version": 3
   },
   "file_extension": ".py",
   "mimetype": "text/x-python",
   "name": "python",
   "nbconvert_exporter": "python",
   "pygments_lexer": "ipython3",
   "version": "3.8.10"
  }
 },
 "nbformat": 4,
 "nbformat_minor": 5
}
