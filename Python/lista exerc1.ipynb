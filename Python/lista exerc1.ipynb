{
 "cells": [
  {
   "cell_type": "code",
   "execution_count": 8,
   "id": "01069208",
   "metadata": {},
   "outputs": [
    {
     "name": "stdout",
     "output_type": "stream",
     "text": [
      "digite um numero: 10\n",
      "digite outro numero: 2\n",
      "seu numero maior é:  10.0\n"
     ]
    }
   ],
   "source": [
    "#1. Faça um Programa que peça dois números e imprima o menor deles.\n",
    "\n",
    "num1 = float(input(\"digite um numero: \"))\n",
    "num2 = float(input(\"digite outro numero: \"))\n",
    "\n",
    "if(num1>num2):\n",
    "    print (\"seu numero maior é: \", num1)\n",
    "else:\n",
    "    print (\"seu numero maior é: \", num2)\n",
    "    "
   ]
  },
  {
   "cell_type": "code",
   "execution_count": 10,
   "id": "3b332527",
   "metadata": {},
   "outputs": [
    {
     "name": "stdout",
     "output_type": "stream",
     "text": [
      "digite um valor: -10\n",
      "seu numero é negativo\n"
     ]
    }
   ],
   "source": [
    "#2. Faça um Programa que peça um valor e mostre na tela se o valor é positivo ou negativo.\n",
    "\n",
    "valor = float(input(\"digite um valor: \"))\n",
    "\n",
    "if(valor>0):\n",
    "    print(\"seu numero é positivo\")\n",
    "else:\n",
    "    print(\"seu numero é negativo\")"
   ]
  },
  {
   "cell_type": "code",
   "execution_count": 12,
   "id": "2e17c033",
   "metadata": {},
   "outputs": [
    {
     "name": "stdout",
     "output_type": "stream",
     "text": [
      "Digite um numero inteiro: 6\n",
      "Seu numero é par\n"
     ]
    }
   ],
   "source": [
    "#3. Faça um Programa que peça um número inteiro e determine se ele é par ou ímpar. \n",
    "# Dica: utilize o operador módulo (resto da divisão).\n",
    "\n",
    "num = int(input(\"Digite um numero inteiro: \"))\n",
    "\n",
    "resto = num % 2\n",
    "\n",
    "if(resto == 0):\n",
    "    print(\"Seu numero é par\")\n",
    "else:\n",
    "    print(\"seu numero é impar\")\n",
    "    "
   ]
  },
  {
   "cell_type": "code",
   "execution_count": 6,
   "id": "80ef4b17",
   "metadata": {},
   "outputs": [
    {
     "name": "stdout",
     "output_type": "stream",
     "text": [
      "digite a letra correspondente ao genero da pessoa: F\n",
      "F-Feminino\n"
     ]
    }
   ],
   "source": [
    "#4. Faça um Programa que verifique se uma letra digitada é \"F\" ou \"M\". Conforme a letra escrever: F - Feminino, M - Masculino, \n",
    "#Sexo Inválido (Utilize elif).\n",
    "\n",
    "\n",
    "gen = str(input(\"digite a letra correspondente ao genero da pessoa: \"))\n",
    "\n",
    "        \n",
    "if(gen == \"f\" or gen == \"F\"):\n",
    "    print(gen + \"-Feminino\")\n",
    "elif(gen == \"m\" or gen == \"M\"):\n",
    "    print(gen + \"-Masculino\")\n",
    "else:\n",
    "    print(gen + \"-SEXO INVÁLIDO\")\n"
   ]
  },
  {
   "cell_type": "code",
   "execution_count": 20,
   "id": "ebf33411",
   "metadata": {},
   "outputs": [
    {
     "name": "stdout",
     "output_type": "stream",
     "text": [
      "digite a nota do aluno: 10\n",
      "digite a outra nota do aluno: 10\n",
      "ALUNO APROVADO COM DISTINÇÃO\n"
     ]
    }
   ],
   "source": [
    "#5.Faça um programa para a leitura de duas notas parciais de um aluno. \n",
    "#  O programa deve calcular a média alcançada por aluno e apresentar:\n",
    "#     oA mensagem \"Aprovado\", se a média alcançada for maior ou igual a seis;\n",
    "#     oA mensagem \"Reprovado\", se a média for menor do que seis;\n",
    "#     oA mensagem \"Aprovado com Distinção\", se a média for igual a dez.\n",
    "\n",
    "\n",
    "nota1 = float(input(\"digite a nota do aluno: \"))\n",
    "nota2 = float(input(\"digite a outra nota do aluno: \"))\n",
    "media= (nota1 + nota2) / 2\n",
    "\n",
    "\n",
    "if (media == 10):\n",
    "    print (\"ALUNO APROVADO COM DISTINÇÃO\")\n",
    "elif (media >=6):\n",
    "    print (\"APROVADO\")\n",
    "else:\n",
    "    print (\"REPROVADO\")\n",
    "\n",
    "\n",
    "\n"
   ]
  },
  {
   "cell_type": "code",
   "execution_count": 2,
   "id": "c86c57d8",
   "metadata": {},
   "outputs": [
    {
     "name": "stdout",
     "output_type": "stream",
     "text": [
      "qual o seu salario atual? 1100\n",
      "seu salario antes é de: 1100.0\n",
      "com o aumento de 10% seu salario ficou: 1210.0 \n",
      "o valor total do aumento foi: 110.0\n"
     ]
    }
   ],
   "source": [
    "#6 As Organizações Tabajara resolveram dar um aumento de salário aos seus colaboradores e lhe contraram para desenvolver \n",
    "# o programa que calculará os reajustes.\n",
    "#  oFaça  um  programa  que  recebe  o  salário  de  um  colaborador  e  o  reajuste  segundo  o  seguinte critério, \n",
    "#  baseado no salário atual:\n",
    "#    osalários até R$ 280,00 (incluindo) : aumento de 20%\n",
    "#    osalários entre R$ 280,00 e R$ 700,00 : aumento de 15%\n",
    "#    osalários entre R$ 700,00 e R$ 1500,00 : aumento de 10%\n",
    "#    osalários de R$ 1500,00 em diante : aumento de 5% Após o aumento ser realizado, informe na tela:\n",
    "#    oo salário antes do reajuste;\n",
    "#    oo percentual de aumento aplicado;\n",
    "#    oo valor do aumento;\n",
    "#    oo novo salário, após o aumento.\n",
    "\n",
    "\n",
    "\n",
    "salarioinicio = float(input(\"qual o seu salario atual? \"))\n",
    "\n",
    "if salarioinicio <= 280:\n",
    "    aumento = salarioinicio * 0.2 \n",
    "    reajuste = salarioinicio + aumento\n",
    "    print(\"seu salario antes é de: \" + str(salarioinicio))\n",
    "    print(\"com o aumento de 20% seu salario ficou: \" + str(reajuste) + \" \\no valor total do aumento foi: \" + str(aumento) )\n",
    "    \n",
    "elif salarioinicio > 280 and salarioinicio < 700:\n",
    "    aumento = salarioinicio * 0.15 \n",
    "    reajuste = salarioinicio + aumento\n",
    "    print(\"seu salario antes é de: \" + str(salarioinicio))\n",
    "    print(\"com o aumento de 15% seu salario ficou: \" + str(reajuste) + \" \\no valor total do aumento foi: \" + str(aumento) )\n",
    "    \n",
    "elif salarioinicio >= 700 and salarioinicio < 1500:\n",
    "    aumento = salarioinicio * 0.1 \n",
    "    reajuste = salarioinicio + aumento\n",
    "    print(\"seu salario antes é de: \" + str(salarioinicio))\n",
    "    print(\"com o aumento de 10% seu salario ficou: \" + str(reajuste) + \" \\no valor total do aumento foi: \" + str(aumento) )\n",
    "        \n",
    "else:\n",
    "    aumento = salarioinicio * 0.05 \n",
    "    reajuste = salarioinicio + aumento\n",
    "    print(\"seu salario antes é de: \" + str(salarioinicio))\n",
    "    print(\"com o aumento de 5% seu salario ficou: \" + str(reajuste) + \" \\no valor total do aumento foi: \" + str(aumento) )\n",
    "\n",
    "\n"
   ]
  },
  {
   "cell_type": "code",
   "execution_count": 5,
   "id": "98b8ef31",
   "metadata": {},
   "outputs": [
    {
     "name": "stdout",
     "output_type": "stream",
     "text": [
      "Digite um numero correspondente ao dia da semana: 7\n",
      "7-Sábado\n"
     ]
    }
   ],
   "source": [
    "#7 Faça um Programa que leia um número e exiba o dia correspondente da semana. \n",
    "#(1-Domingo, 2- Segunda, etc.), se digitar outro valor deve aparecer valor inválido\n",
    "\n",
    "num = int(input(\"Digite um numero correspondente ao dia da semana: \"))\n",
    "\n",
    "while num < 1 or num > 7:    \n",
    "    print(\"VALOR INVALIDO\")\n",
    "    num = int(input(\"Digite novamente: \"))\n",
    "    \n",
    "if(num == 1):\n",
    "    print(str(num) + \"-Domingo\")\n",
    "if(num == 2):\n",
    "    print(str(num) + \"-Segunda\")\n",
    "if(num == 3):\n",
    "    print(str(num) + \"-Terça\")\n",
    "if(num == 4):\n",
    "    print(str(num) + \"-Quarta\")\n",
    "if(num == 5):\n",
    "    print(str(num) + \"-Quinta\")\n",
    "if(num == 6):\n",
    "    print(str(num) + \"-Sexta\")\n",
    "if(num == 7):\n",
    "    print(str(num) + \"-Sábado\")"
   ]
  },
  {
   "cell_type": "code",
   "execution_count": null,
   "id": "9f443176",
   "metadata": {},
   "outputs": [],
   "source": []
  },
  {
   "cell_type": "code",
   "execution_count": null,
   "id": "5ec1ba25",
   "metadata": {},
   "outputs": [],
   "source": []
  }
 ],
 "metadata": {
  "kernelspec": {
   "display_name": "Python 3 (ipykernel)",
   "language": "python",
   "name": "python3"
  },
  "language_info": {
   "codemirror_mode": {
    "name": "ipython",
    "version": 3
   },
   "file_extension": ".py",
   "mimetype": "text/x-python",
   "name": "python",
   "nbconvert_exporter": "python",
   "pygments_lexer": "ipython3",
   "version": "3.8.10"
  }
 },
 "nbformat": 4,
 "nbformat_minor": 5
}
