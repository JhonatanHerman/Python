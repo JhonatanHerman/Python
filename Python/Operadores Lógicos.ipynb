{
 "cells": [
  {
   "cell_type": "code",
   "execution_count": 1,
   "id": "559e32ee",
   "metadata": {},
   "outputs": [
    {
     "name": "stdout",
     "output_type": "stream",
     "text": [
      "meu primeiro programa!\n",
      "ok\n"
     ]
    }
   ],
   "source": [
    "print (\"meu primeiro programa!\")\n",
    "print ('ok')"
   ]
  },
  {
   "cell_type": "code",
   "execution_count": 2,
   "id": "7421ac95",
   "metadata": {},
   "outputs": [
    {
     "name": "stdout",
     "output_type": "stream",
     "text": [
      "<class 'str'>\n"
     ]
    }
   ],
   "source": [
    "num = '1.0'\n",
    "\n",
    "print(type(num))"
   ]
  },
  {
   "cell_type": "code",
   "execution_count": 3,
   "id": "13830b5b",
   "metadata": {},
   "outputs": [
    {
     "name": "stdout",
     "output_type": "stream",
     "text": [
      "meu nome éJhonatan\n",
      "meu Rg\té: 123456\n"
     ]
    }
   ],
   "source": [
    "nome = \"Jhonatan\"\n",
    "Rg = 123456\n",
    "print(\"meu nome é\" + nome + \"\\nmeu Rg\\té: \" +str(Rg))"
   ]
  },
  {
   "cell_type": "code",
   "execution_count": 8,
   "id": "e249e2bd",
   "metadata": {},
   "outputs": [
    {
     "name": "stdout",
     "output_type": "stream",
     "text": [
      "Meu nome é Jhonatan, meu Rg é 123456, minha media na prova foi 8.93\n"
     ]
    }
   ],
   "source": [
    "nome = \"Jhonatan\"\n",
    "Rg = 123456\n",
    "media = 8.928375\n",
    "print(\"Meu nome é %s, meu Rg é %s, minha media na prova foi %.2f\" % (nome,Rg,media))"
   ]
  },
  {
   "cell_type": "code",
   "execution_count": 10,
   "id": "d4207284",
   "metadata": {},
   "outputs": [
    {
     "name": "stdout",
     "output_type": "stream",
     "text": [
      "JHONATAN\n"
     ]
    }
   ],
   "source": [
    "print(nome.upper())"
   ]
  },
  {
   "cell_type": "code",
   "execution_count": 12,
   "id": "fd61d430",
   "metadata": {},
   "outputs": [
    {
     "name": "stdout",
     "output_type": "stream",
     "text": [
      "Jhonatan\n",
      "JHONATAN\n",
      "jhonatan\n"
     ]
    }
   ],
   "source": [
    "nome2 = nome.upper()\n",
    "nome3 = nome.lower()\n",
    "print(nome)\n",
    "print(nome2)\n",
    "print(nome3)"
   ]
  },
  {
   "cell_type": "code",
   "execution_count": 14,
   "id": "26289586",
   "metadata": {},
   "outputs": [
    {
     "name": "stdout",
     "output_type": "stream",
     "text": [
      "Fulano\n"
     ]
    }
   ],
   "source": [
    "MeuNome = \"fulano\"\n",
    "nome4 = MeuNome.capitalize()\n",
    "print(nome4)"
   ]
  },
  {
   "cell_type": "code",
   "execution_count": 15,
   "id": "df19cf66",
   "metadata": {},
   "outputs": [],
   "source": [
    "#OPERADORES LÓGICOS:\n",
    "\n",
    "#Comentário\n",
    "#Operadores Relacionais - Comparações Lógicas\n",
    "# == igualdade\n",
    "# > maior que\n",
    "# < menor que\n",
    "# != diferente\n",
    "# >= maior ou igual a\n",
    "# <= menor ou igual a\n",
    "# comparações retorna True ou False\n"
   ]
  },
  {
   "cell_type": "code",
   "execution_count": 17,
   "id": "7fc5d1e1",
   "metadata": {},
   "outputs": [
    {
     "name": "stdout",
     "output_type": "stream",
     "text": [
      "False\n",
      "False\n",
      "True\n",
      "True\n",
      "False\n",
      "True\n"
     ]
    }
   ],
   "source": [
    "val1 = 2\n",
    "val2 = 3\n",
    "\n",
    "print(val1 == val2)\n",
    "print(val1 > val2)\n",
    "print(val1 < val2)\n",
    "print(val1 != val2)\n",
    "print(val1 >= val2)\n",
    "print(val1 <= val2)\n"
   ]
  },
  {
   "cell_type": "code",
   "execution_count": 19,
   "id": "6af1f2a4",
   "metadata": {},
   "outputs": [
    {
     "name": "stdout",
     "output_type": "stream",
     "text": [
      "False\n"
     ]
    }
   ],
   "source": [
    "mediaProva = 2.0\n",
    "mediaAprovacao = 6.0\n",
    "resultado = mediaProva >= mediaAprovacao\n",
    "print (resultado)"
   ]
  },
  {
   "cell_type": "code",
   "execution_count": null,
   "id": "0e629be8",
   "metadata": {},
   "outputs": [],
   "source": []
  }
 ],
 "metadata": {
  "kernelspec": {
   "display_name": "Python 3 (ipykernel)",
   "language": "python",
   "name": "python3"
  },
  "language_info": {
   "codemirror_mode": {
    "name": "ipython",
    "version": 3
   },
   "file_extension": ".py",
   "mimetype": "text/x-python",
   "name": "python",
   "nbconvert_exporter": "python",
   "pygments_lexer": "ipython3",
   "version": "3.8.10"
  }
 },
 "nbformat": 4,
 "nbformat_minor": 5
}
